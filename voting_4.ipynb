{
 "cells": [
  {
   "cell_type": "code",
   "execution_count": 1,
   "metadata": {},
   "outputs": [],
   "source": [
    "import pandas as pd\n",
    "import numpy as np\n",
    "from sklearn import preprocessing\n",
    "import seaborn as sns\n",
    "import os \n",
    "import warnings\n",
    "from patsy import dmatrices\n",
    "from statsmodels.stats.outliers_influence import variance_inflation_factor\n",
    "from pylab import rcParams\n",
    "\n",
    "%matplotlib inline\n",
    "\n",
    "import sklearn\n",
    "\n",
    "from sklearn.linear_model import LogisticRegression\n",
    "from imblearn.over_sampling import SMOTE\n",
    "from imblearn.over_sampling import RandomOverSampler\n",
    "from sklearn.preprocessing import StandardScaler\n",
    "from sklearn.preprocessing import MinMaxScaler\n",
    "from sklearn.utils import shuffle\n",
    "from sklearn.decomposition import PCA\n",
    "from sklearn.metrics import confusion_matrix\n",
    "from sklearn.metrics import mean_squared_error\n",
    "from sklearn.metrics import roc_auc_score\n",
    "from sklearn.metrics import classification_report,accuracy_score\n",
    "from sklearn.ensemble import IsolationForest\n",
    "from sklearn.neighbors import LocalOutlierFactor\n",
    "from sklearn.svm import OneClassSVM\n",
    "from sklearn.model_selection import StratifiedKFold,KFold\n",
    "from sklearn.model_selection import train_test_split\n",
    "\n",
    "from matplotlib import pyplot as plt\n",
    "import xgboost as xgb\n",
    "\n",
    "from sklearn.ensemble import VotingClassifier\n",
    "from sklearn import svm\n",
    "from sklearn.ensemble import RandomForestClassifier\n",
    "from sklearn.neural_network import MLPClassifier\n",
    "\n",
    "from sklearn.preprocessing import StandardScaler\n",
    "from sklearn.preprocessing import QuantileTransformer\n",
    "from sklearn.utils import shuffle\n",
    "from scipy.stats import mode\n",
    "from sklearn.metrics import f1_score\n",
    "from sklearn.model_selection import cross_val_score\n",
    "from sklearn.ensemble import AdaBoostClassifier\n",
    "\n",
    "import warnings"
   ]
  },
  {
   "cell_type": "code",
   "execution_count": 2,
   "metadata": {},
   "outputs": [
    {
     "name": "stdout",
     "output_type": "stream",
     "text": [
      "(33926, 94)\n"
     ]
    }
   ],
   "source": [
    "data = pd.read_csv('D:/FV_Raw/S01_05_rev.csv')\n",
    "print(data.shape)"
   ]
  },
  {
   "cell_type": "code",
   "execution_count": 3,
   "metadata": {},
   "outputs": [
    {
     "data": {
      "text/html": [
       "<div>\n",
       "<style scoped>\n",
       "    .dataframe tbody tr th:only-of-type {\n",
       "        vertical-align: middle;\n",
       "    }\n",
       "\n",
       "    .dataframe tbody tr th {\n",
       "        vertical-align: top;\n",
       "    }\n",
       "\n",
       "    .dataframe thead th {\n",
       "        text-align: right;\n",
       "    }\n",
       "</style>\n",
       "<table border=\"1\" class=\"dataframe\">\n",
       "  <thead>\n",
       "    <tr style=\"text-align: right;\">\n",
       "      <th></th>\n",
       "      <th>0</th>\n",
       "      <th>1</th>\n",
       "      <th>2</th>\n",
       "      <th>3</th>\n",
       "      <th>4</th>\n",
       "      <th>5</th>\n",
       "      <th>6</th>\n",
       "      <th>7</th>\n",
       "      <th>8</th>\n",
       "      <th>9</th>\n",
       "      <th>...</th>\n",
       "      <th>79</th>\n",
       "      <th>80</th>\n",
       "      <th>81</th>\n",
       "      <th>82</th>\n",
       "      <th>83</th>\n",
       "      <th>84</th>\n",
       "      <th>85</th>\n",
       "      <th>86</th>\n",
       "      <th>87</th>\n",
       "      <th>Class</th>\n",
       "    </tr>\n",
       "  </thead>\n",
       "  <tbody>\n",
       "    <tr>\n",
       "      <th>0</th>\n",
       "      <td>0.704672</td>\n",
       "      <td>0.569560</td>\n",
       "      <td>0.478011</td>\n",
       "      <td>0.3787</td>\n",
       "      <td>0.0</td>\n",
       "      <td>0.613485</td>\n",
       "      <td>0.783795</td>\n",
       "      <td>0.783795</td>\n",
       "      <td>0.369048</td>\n",
       "      <td>0.0</td>\n",
       "      <td>...</td>\n",
       "      <td>0.085822</td>\n",
       "      <td>0.033478</td>\n",
       "      <td>0.085538</td>\n",
       "      <td>0.058413</td>\n",
       "      <td>0.030419</td>\n",
       "      <td>0.710969</td>\n",
       "      <td>0.00000</td>\n",
       "      <td>0.000000</td>\n",
       "      <td>0.497083</td>\n",
       "      <td>17</td>\n",
       "    </tr>\n",
       "    <tr>\n",
       "      <th>1</th>\n",
       "      <td>0.276039</td>\n",
       "      <td>0.431766</td>\n",
       "      <td>0.325844</td>\n",
       "      <td>0.7500</td>\n",
       "      <td>0.0</td>\n",
       "      <td>0.489699</td>\n",
       "      <td>0.446879</td>\n",
       "      <td>0.446879</td>\n",
       "      <td>0.000000</td>\n",
       "      <td>0.0</td>\n",
       "      <td>...</td>\n",
       "      <td>0.100576</td>\n",
       "      <td>0.020811</td>\n",
       "      <td>0.075046</td>\n",
       "      <td>0.063253</td>\n",
       "      <td>0.032340</td>\n",
       "      <td>0.780613</td>\n",
       "      <td>0.00000</td>\n",
       "      <td>0.003934</td>\n",
       "      <td>1.000000</td>\n",
       "      <td>21</td>\n",
       "    </tr>\n",
       "    <tr>\n",
       "      <th>2</th>\n",
       "      <td>0.180883</td>\n",
       "      <td>0.306293</td>\n",
       "      <td>0.247769</td>\n",
       "      <td>0.7500</td>\n",
       "      <td>0.0</td>\n",
       "      <td>0.376979</td>\n",
       "      <td>0.391897</td>\n",
       "      <td>0.247210</td>\n",
       "      <td>0.000000</td>\n",
       "      <td>0.0</td>\n",
       "      <td>...</td>\n",
       "      <td>0.118208</td>\n",
       "      <td>0.156714</td>\n",
       "      <td>0.223768</td>\n",
       "      <td>0.065391</td>\n",
       "      <td>0.115917</td>\n",
       "      <td>0.247516</td>\n",
       "      <td>0.01976</td>\n",
       "      <td>0.023164</td>\n",
       "      <td>1.000000</td>\n",
       "      <td>9</td>\n",
       "    </tr>\n",
       "    <tr>\n",
       "      <th>3</th>\n",
       "      <td>0.227390</td>\n",
       "      <td>0.350265</td>\n",
       "      <td>0.270236</td>\n",
       "      <td>0.7901</td>\n",
       "      <td>0.0</td>\n",
       "      <td>0.416482</td>\n",
       "      <td>0.391897</td>\n",
       "      <td>0.326788</td>\n",
       "      <td>0.000000</td>\n",
       "      <td>0.0</td>\n",
       "      <td>...</td>\n",
       "      <td>0.091400</td>\n",
       "      <td>0.066051</td>\n",
       "      <td>0.151460</td>\n",
       "      <td>0.039167</td>\n",
       "      <td>0.049621</td>\n",
       "      <td>0.587263</td>\n",
       "      <td>0.00000</td>\n",
       "      <td>0.002404</td>\n",
       "      <td>1.000000</td>\n",
       "      <td>21</td>\n",
       "    </tr>\n",
       "    <tr>\n",
       "      <th>4</th>\n",
       "      <td>0.161380</td>\n",
       "      <td>0.293215</td>\n",
       "      <td>0.247769</td>\n",
       "      <td>0.6875</td>\n",
       "      <td>0.0</td>\n",
       "      <td>0.365231</td>\n",
       "      <td>0.326788</td>\n",
       "      <td>0.326788</td>\n",
       "      <td>0.000000</td>\n",
       "      <td>0.0</td>\n",
       "      <td>...</td>\n",
       "      <td>0.005578</td>\n",
       "      <td>0.014296</td>\n",
       "      <td>0.019389</td>\n",
       "      <td>0.035678</td>\n",
       "      <td>0.002729</td>\n",
       "      <td>0.969047</td>\n",
       "      <td>0.00000</td>\n",
       "      <td>0.000000</td>\n",
       "      <td>0.497083</td>\n",
       "      <td>9</td>\n",
       "    </tr>\n",
       "  </tbody>\n",
       "</table>\n",
       "<p>5 rows × 89 columns</p>\n",
       "</div>"
      ],
      "text/plain": [
       "          0         1         2       3    4         5         6         7  \\\n",
       "0  0.704672  0.569560  0.478011  0.3787  0.0  0.613485  0.783795  0.783795   \n",
       "1  0.276039  0.431766  0.325844  0.7500  0.0  0.489699  0.446879  0.446879   \n",
       "2  0.180883  0.306293  0.247769  0.7500  0.0  0.376979  0.391897  0.247210   \n",
       "3  0.227390  0.350265  0.270236  0.7901  0.0  0.416482  0.391897  0.326788   \n",
       "4  0.161380  0.293215  0.247769  0.6875  0.0  0.365231  0.326788  0.326788   \n",
       "\n",
       "          8    9  ...        79        80        81        82        83  \\\n",
       "0  0.369048  0.0  ...  0.085822  0.033478  0.085538  0.058413  0.030419   \n",
       "1  0.000000  0.0  ...  0.100576  0.020811  0.075046  0.063253  0.032340   \n",
       "2  0.000000  0.0  ...  0.118208  0.156714  0.223768  0.065391  0.115917   \n",
       "3  0.000000  0.0  ...  0.091400  0.066051  0.151460  0.039167  0.049621   \n",
       "4  0.000000  0.0  ...  0.005578  0.014296  0.019389  0.035678  0.002729   \n",
       "\n",
       "         84       85        86        87  Class  \n",
       "0  0.710969  0.00000  0.000000  0.497083     17  \n",
       "1  0.780613  0.00000  0.003934  1.000000     21  \n",
       "2  0.247516  0.01976  0.023164  1.000000      9  \n",
       "3  0.587263  0.00000  0.002404  1.000000     21  \n",
       "4  0.969047  0.00000  0.000000  0.497083      9  \n",
       "\n",
       "[5 rows x 89 columns]"
      ]
     },
     "execution_count": 3,
     "metadata": {},
     "output_type": "execute_result"
    }
   ],
   "source": [
    "var = data.drop(['L0t','Class','S_NO','D_ID','FV89','FV90'], axis=1)\n",
    "target = data['Class']\n",
    "\n",
    "min_max_scaler = MinMaxScaler()\n",
    "data2_norm=min_max_scaler.fit_transform(var)\n",
    "data2_norm = pd.DataFrame(data2_norm)\n",
    "data_norm = data2_norm.merge(target.to_frame(),left_index=True, right_index = True)\n",
    "data_norm.head(5)"
   ]
  },
  {
   "cell_type": "code",
   "execution_count": 4,
   "metadata": {},
   "outputs": [
    {
     "data": {
      "text/html": [
       "<div>\n",
       "<style scoped>\n",
       "    .dataframe tbody tr th:only-of-type {\n",
       "        vertical-align: middle;\n",
       "    }\n",
       "\n",
       "    .dataframe tbody tr th {\n",
       "        vertical-align: top;\n",
       "    }\n",
       "\n",
       "    .dataframe thead th {\n",
       "        text-align: right;\n",
       "    }\n",
       "</style>\n",
       "<table border=\"1\" class=\"dataframe\">\n",
       "  <thead>\n",
       "    <tr style=\"text-align: right;\">\n",
       "      <th></th>\n",
       "      <th>0</th>\n",
       "      <th>1</th>\n",
       "      <th>2</th>\n",
       "      <th>3</th>\n",
       "      <th>4</th>\n",
       "      <th>5</th>\n",
       "      <th>6</th>\n",
       "      <th>7</th>\n",
       "      <th>8</th>\n",
       "      <th>9</th>\n",
       "      <th>10</th>\n",
       "      <th>11</th>\n",
       "      <th>12</th>\n",
       "      <th>13</th>\n",
       "      <th>14</th>\n",
       "      <th>15</th>\n",
       "      <th>16</th>\n",
       "      <th>Class</th>\n",
       "    </tr>\n",
       "  </thead>\n",
       "  <tbody>\n",
       "    <tr>\n",
       "      <th>0</th>\n",
       "      <td>0.240235</td>\n",
       "      <td>-1.169858</td>\n",
       "      <td>0.663074</td>\n",
       "      <td>0.019229</td>\n",
       "      <td>0.620195</td>\n",
       "      <td>-0.742148</td>\n",
       "      <td>0.348154</td>\n",
       "      <td>-0.373015</td>\n",
       "      <td>-0.075575</td>\n",
       "      <td>-0.128976</td>\n",
       "      <td>-0.275285</td>\n",
       "      <td>0.310400</td>\n",
       "      <td>0.193656</td>\n",
       "      <td>-0.047904</td>\n",
       "      <td>-0.133225</td>\n",
       "      <td>0.149162</td>\n",
       "      <td>0.080341</td>\n",
       "      <td>17</td>\n",
       "    </tr>\n",
       "    <tr>\n",
       "      <th>1</th>\n",
       "      <td>-0.225106</td>\n",
       "      <td>-0.629123</td>\n",
       "      <td>-0.091924</td>\n",
       "      <td>-0.062670</td>\n",
       "      <td>-0.266067</td>\n",
       "      <td>0.186320</td>\n",
       "      <td>0.080216</td>\n",
       "      <td>-0.201968</td>\n",
       "      <td>0.101115</td>\n",
       "      <td>0.224332</td>\n",
       "      <td>0.061510</td>\n",
       "      <td>-0.096633</td>\n",
       "      <td>0.261985</td>\n",
       "      <td>-0.049817</td>\n",
       "      <td>-0.064037</td>\n",
       "      <td>-0.040096</td>\n",
       "      <td>0.147393</td>\n",
       "      <td>21</td>\n",
       "    </tr>\n",
       "    <tr>\n",
       "      <th>2</th>\n",
       "      <td>-0.190383</td>\n",
       "      <td>-0.517377</td>\n",
       "      <td>-0.379907</td>\n",
       "      <td>0.399697</td>\n",
       "      <td>-0.603177</td>\n",
       "      <td>-0.109152</td>\n",
       "      <td>0.063760</td>\n",
       "      <td>-0.082697</td>\n",
       "      <td>0.496658</td>\n",
       "      <td>-0.146083</td>\n",
       "      <td>0.055157</td>\n",
       "      <td>-0.007380</td>\n",
       "      <td>-0.086956</td>\n",
       "      <td>0.069441</td>\n",
       "      <td>0.175715</td>\n",
       "      <td>-0.045392</td>\n",
       "      <td>-0.197643</td>\n",
       "      <td>9</td>\n",
       "    </tr>\n",
       "    <tr>\n",
       "      <th>3</th>\n",
       "      <td>-0.363851</td>\n",
       "      <td>-0.501417</td>\n",
       "      <td>-0.156138</td>\n",
       "      <td>-0.177678</td>\n",
       "      <td>0.142810</td>\n",
       "      <td>-0.444388</td>\n",
       "      <td>-0.358293</td>\n",
       "      <td>0.082453</td>\n",
       "      <td>0.159960</td>\n",
       "      <td>-0.063044</td>\n",
       "      <td>0.104709</td>\n",
       "      <td>0.137652</td>\n",
       "      <td>-0.010886</td>\n",
       "      <td>0.114063</td>\n",
       "      <td>0.020326</td>\n",
       "      <td>-0.067436</td>\n",
       "      <td>-0.050562</td>\n",
       "      <td>21</td>\n",
       "    </tr>\n",
       "    <tr>\n",
       "      <th>4</th>\n",
       "      <td>-0.802729</td>\n",
       "      <td>-0.378539</td>\n",
       "      <td>-0.345526</td>\n",
       "      <td>-0.114439</td>\n",
       "      <td>0.687051</td>\n",
       "      <td>-0.119308</td>\n",
       "      <td>0.034842</td>\n",
       "      <td>0.214920</td>\n",
       "      <td>-0.087094</td>\n",
       "      <td>0.053155</td>\n",
       "      <td>-0.046394</td>\n",
       "      <td>-0.264762</td>\n",
       "      <td>0.115810</td>\n",
       "      <td>0.272997</td>\n",
       "      <td>-0.048212</td>\n",
       "      <td>0.042004</td>\n",
       "      <td>0.002226</td>\n",
       "      <td>9</td>\n",
       "    </tr>\n",
       "  </tbody>\n",
       "</table>\n",
       "</div>"
      ],
      "text/plain": [
       "          0         1         2         3         4         5         6  \\\n",
       "0  0.240235 -1.169858  0.663074  0.019229  0.620195 -0.742148  0.348154   \n",
       "1 -0.225106 -0.629123 -0.091924 -0.062670 -0.266067  0.186320  0.080216   \n",
       "2 -0.190383 -0.517377 -0.379907  0.399697 -0.603177 -0.109152  0.063760   \n",
       "3 -0.363851 -0.501417 -0.156138 -0.177678  0.142810 -0.444388 -0.358293   \n",
       "4 -0.802729 -0.378539 -0.345526 -0.114439  0.687051 -0.119308  0.034842   \n",
       "\n",
       "          7         8         9        10        11        12        13  \\\n",
       "0 -0.373015 -0.075575 -0.128976 -0.275285  0.310400  0.193656 -0.047904   \n",
       "1 -0.201968  0.101115  0.224332  0.061510 -0.096633  0.261985 -0.049817   \n",
       "2 -0.082697  0.496658 -0.146083  0.055157 -0.007380 -0.086956  0.069441   \n",
       "3  0.082453  0.159960 -0.063044  0.104709  0.137652 -0.010886  0.114063   \n",
       "4  0.214920 -0.087094  0.053155 -0.046394 -0.264762  0.115810  0.272997   \n",
       "\n",
       "         14        15        16  Class  \n",
       "0 -0.133225  0.149162  0.080341     17  \n",
       "1 -0.064037 -0.040096  0.147393     21  \n",
       "2  0.175715 -0.045392 -0.197643      9  \n",
       "3  0.020326 -0.067436 -0.050562     21  \n",
       "4 -0.048212  0.042004  0.002226      9  "
      ]
     },
     "execution_count": 4,
     "metadata": {},
     "output_type": "execute_result"
    }
   ],
   "source": [
    "pca = PCA(n_components=0.95) #95%이상의 분산을 설명력을 갖는 차원축소\n",
    "new_data2 = pca.fit_transform(data2_norm)\n",
    "data2_norm2 = pd.DataFrame(new_data2)\n",
    "data_norm = data2_norm2.merge(target.to_frame(),left_index=True, right_index = True)\n",
    "data_norm.head(5)"
   ]
  },
  {
   "cell_type": "code",
   "execution_count": 5,
   "metadata": {},
   "outputs": [
    {
     "data": {
      "text/html": [
       "<div>\n",
       "<style scoped>\n",
       "    .dataframe tbody tr th:only-of-type {\n",
       "        vertical-align: middle;\n",
       "    }\n",
       "\n",
       "    .dataframe tbody tr th {\n",
       "        vertical-align: top;\n",
       "    }\n",
       "\n",
       "    .dataframe thead th {\n",
       "        text-align: right;\n",
       "    }\n",
       "</style>\n",
       "<table border=\"1\" class=\"dataframe\">\n",
       "  <thead>\n",
       "    <tr style=\"text-align: right;\">\n",
       "      <th></th>\n",
       "      <th>0</th>\n",
       "      <th>1</th>\n",
       "      <th>2</th>\n",
       "      <th>3</th>\n",
       "      <th>4</th>\n",
       "      <th>5</th>\n",
       "      <th>6</th>\n",
       "      <th>7</th>\n",
       "      <th>8</th>\n",
       "      <th>9</th>\n",
       "      <th>10</th>\n",
       "      <th>11</th>\n",
       "      <th>12</th>\n",
       "      <th>13</th>\n",
       "      <th>14</th>\n",
       "      <th>15</th>\n",
       "      <th>16</th>\n",
       "      <th>Class</th>\n",
       "      <th>ClassA</th>\n",
       "    </tr>\n",
       "  </thead>\n",
       "  <tbody>\n",
       "    <tr>\n",
       "      <th>0</th>\n",
       "      <td>0.240235</td>\n",
       "      <td>-1.169858</td>\n",
       "      <td>0.663074</td>\n",
       "      <td>0.019229</td>\n",
       "      <td>0.620195</td>\n",
       "      <td>-0.742148</td>\n",
       "      <td>0.348154</td>\n",
       "      <td>-0.373015</td>\n",
       "      <td>-0.075575</td>\n",
       "      <td>-0.128976</td>\n",
       "      <td>-0.275285</td>\n",
       "      <td>0.310400</td>\n",
       "      <td>0.193656</td>\n",
       "      <td>-0.047904</td>\n",
       "      <td>-0.133225</td>\n",
       "      <td>0.149162</td>\n",
       "      <td>0.080341</td>\n",
       "      <td>17</td>\n",
       "      <td>17.0</td>\n",
       "    </tr>\n",
       "    <tr>\n",
       "      <th>1</th>\n",
       "      <td>-0.225106</td>\n",
       "      <td>-0.629123</td>\n",
       "      <td>-0.091924</td>\n",
       "      <td>-0.062670</td>\n",
       "      <td>-0.266067</td>\n",
       "      <td>0.186320</td>\n",
       "      <td>0.080216</td>\n",
       "      <td>-0.201968</td>\n",
       "      <td>0.101115</td>\n",
       "      <td>0.224332</td>\n",
       "      <td>0.061510</td>\n",
       "      <td>-0.096633</td>\n",
       "      <td>0.261985</td>\n",
       "      <td>-0.049817</td>\n",
       "      <td>-0.064037</td>\n",
       "      <td>-0.040096</td>\n",
       "      <td>0.147393</td>\n",
       "      <td>21</td>\n",
       "      <td>21.0</td>\n",
       "    </tr>\n",
       "    <tr>\n",
       "      <th>2</th>\n",
       "      <td>-0.190383</td>\n",
       "      <td>-0.517377</td>\n",
       "      <td>-0.379907</td>\n",
       "      <td>0.399697</td>\n",
       "      <td>-0.603177</td>\n",
       "      <td>-0.109152</td>\n",
       "      <td>0.063760</td>\n",
       "      <td>-0.082697</td>\n",
       "      <td>0.496658</td>\n",
       "      <td>-0.146083</td>\n",
       "      <td>0.055157</td>\n",
       "      <td>-0.007380</td>\n",
       "      <td>-0.086956</td>\n",
       "      <td>0.069441</td>\n",
       "      <td>0.175715</td>\n",
       "      <td>-0.045392</td>\n",
       "      <td>-0.197643</td>\n",
       "      <td>9</td>\n",
       "      <td>9.0</td>\n",
       "    </tr>\n",
       "    <tr>\n",
       "      <th>3</th>\n",
       "      <td>-0.363851</td>\n",
       "      <td>-0.501417</td>\n",
       "      <td>-0.156138</td>\n",
       "      <td>-0.177678</td>\n",
       "      <td>0.142810</td>\n",
       "      <td>-0.444388</td>\n",
       "      <td>-0.358293</td>\n",
       "      <td>0.082453</td>\n",
       "      <td>0.159960</td>\n",
       "      <td>-0.063044</td>\n",
       "      <td>0.104709</td>\n",
       "      <td>0.137652</td>\n",
       "      <td>-0.010886</td>\n",
       "      <td>0.114063</td>\n",
       "      <td>0.020326</td>\n",
       "      <td>-0.067436</td>\n",
       "      <td>-0.050562</td>\n",
       "      <td>21</td>\n",
       "      <td>21.0</td>\n",
       "    </tr>\n",
       "    <tr>\n",
       "      <th>4</th>\n",
       "      <td>-0.802729</td>\n",
       "      <td>-0.378539</td>\n",
       "      <td>-0.345526</td>\n",
       "      <td>-0.114439</td>\n",
       "      <td>0.687051</td>\n",
       "      <td>-0.119308</td>\n",
       "      <td>0.034842</td>\n",
       "      <td>0.214920</td>\n",
       "      <td>-0.087094</td>\n",
       "      <td>0.053155</td>\n",
       "      <td>-0.046394</td>\n",
       "      <td>-0.264762</td>\n",
       "      <td>0.115810</td>\n",
       "      <td>0.272997</td>\n",
       "      <td>-0.048212</td>\n",
       "      <td>0.042004</td>\n",
       "      <td>0.002226</td>\n",
       "      <td>9</td>\n",
       "      <td>9.0</td>\n",
       "    </tr>\n",
       "  </tbody>\n",
       "</table>\n",
       "</div>"
      ],
      "text/plain": [
       "          0         1         2         3         4         5         6  \\\n",
       "0  0.240235 -1.169858  0.663074  0.019229  0.620195 -0.742148  0.348154   \n",
       "1 -0.225106 -0.629123 -0.091924 -0.062670 -0.266067  0.186320  0.080216   \n",
       "2 -0.190383 -0.517377 -0.379907  0.399697 -0.603177 -0.109152  0.063760   \n",
       "3 -0.363851 -0.501417 -0.156138 -0.177678  0.142810 -0.444388 -0.358293   \n",
       "4 -0.802729 -0.378539 -0.345526 -0.114439  0.687051 -0.119308  0.034842   \n",
       "\n",
       "          7         8         9        10        11        12        13  \\\n",
       "0 -0.373015 -0.075575 -0.128976 -0.275285  0.310400  0.193656 -0.047904   \n",
       "1 -0.201968  0.101115  0.224332  0.061510 -0.096633  0.261985 -0.049817   \n",
       "2 -0.082697  0.496658 -0.146083  0.055157 -0.007380 -0.086956  0.069441   \n",
       "3  0.082453  0.159960 -0.063044  0.104709  0.137652 -0.010886  0.114063   \n",
       "4  0.214920 -0.087094  0.053155 -0.046394 -0.264762  0.115810  0.272997   \n",
       "\n",
       "         14        15        16  Class  ClassA  \n",
       "0 -0.133225  0.149162  0.080341     17    17.0  \n",
       "1 -0.064037 -0.040096  0.147393     21    21.0  \n",
       "2  0.175715 -0.045392 -0.197643      9     9.0  \n",
       "3  0.020326 -0.067436 -0.050562     21    21.0  \n",
       "4 -0.048212  0.042004  0.002226      9     9.0  "
      ]
     },
     "execution_count": 5,
     "metadata": {},
     "output_type": "execute_result"
    }
   ],
   "source": [
    "def func(data_norm) :\n",
    "    if data_norm['Class'] == 9 or data_norm['Class'] == 21 or data_norm['Class'] == 17 \\\n",
    "    or data_norm['Class'] == 16 or data_norm['Class'] == 198 or data_norm['Class'] == 76 \\\n",
    "    or data_norm['Class'] == 22 :\n",
    "        return data_norm['Class']\n",
    "    else : return 200\n",
    "data_norm['ClassA'] = data_norm.apply(func, axis = 1)\n",
    "data_norm1 = data_norm[data_norm['ClassA'] != 200]\n",
    "\n",
    "data_norm1.head(5)"
   ]
  },
  {
   "cell_type": "code",
   "execution_count": 6,
   "metadata": {},
   "outputs": [
    {
     "name": "stderr",
     "output_type": "stream",
     "text": [
      "C:\\Users\\kim\\Anaconda3\\lib\\site-packages\\ipykernel_launcher.py:4: SettingWithCopyWarning: \n",
      "A value is trying to be set on a copy of a slice from a DataFrame.\n",
      "Try using .loc[row_indexer,col_indexer] = value instead\n",
      "\n",
      "See the caveats in the documentation: http://pandas.pydata.org/pandas-docs/stable/indexing.html#indexing-view-versus-copy\n",
      "  after removing the cwd from sys.path.\n"
     ]
    }
   ],
   "source": [
    "def func2(data_norm1) :\n",
    "    if data_norm1['Class'] == 9 : return 1\n",
    "    else : return 0\n",
    "data_norm1['ClassA'] = data_norm1.apply(func2, axis = 1)"
   ]
  },
  {
   "cell_type": "code",
   "execution_count": 7,
   "metadata": {},
   "outputs": [
    {
     "data": {
      "image/png": "[encoded data removed]",
      "text/plain": [
       "<Figure size 432x288 with 1 Axes>"
      ]
     },
     "metadata": {
      "needs_background": "light"
     },
     "output_type": "display_data"
    }
   ],
   "source": [
    "count_classes = pd.value_counts(data_norm1['ClassA'], sort = True)\n",
    "count_classes.plot(kind = 'bar', rot=0)\n",
    "plt.title(\"Transaction Class Distribution\")\n",
    "plt.xlabel(\"Class\")\n",
    "plt.ylabel(\"Frequency\");"
   ]
  },
  {
   "cell_type": "code",
   "execution_count": 8,
   "metadata": {},
   "outputs": [],
   "source": [
    "X= data_norm1.drop(['Class','ClassA'], axis=1)\n",
    "y= data_norm1['ClassA']\n",
    "\n",
    "train, test = train_test_split(data_norm1, test_size = 0.3)\n",
    "x_train = train.drop(['Class','ClassA'], axis=1)\n",
    "y_train = train['ClassA']\n",
    "x_test = test.drop(['Class','ClassA'], axis=1)\n",
    "y_test = test['ClassA']\n",
    "\n",
    "train2=train.drop('Class',axis=1)"
   ]
  },
  {
   "cell_type": "code",
   "execution_count": 9,
   "metadata": {},
   "outputs": [
    {
     "data": {
      "image/png": "[encoded data removed]",
      "text/plain": [
       "<Figure size 432x288 with 1 Axes>"
      ]
     },
     "metadata": {
      "needs_background": "light"
     },
     "output_type": "display_data"
    }
   ],
   "source": [
    "smote = SMOTE(random_state=42,ratio='minority')\n",
    "x_train_sm, y_train_sm = smote.fit_sample(x_train, y_train)\n",
    "\n",
    "sns.countplot(y_train_sm)\n",
    "plt.show()"
   ]
  },
  {
   "cell_type": "code",
   "execution_count": 10,
   "metadata": {},
   "outputs": [],
   "source": [
    "x_test=x_test.values\n",
    "y_test=y_test.values"
   ]
  },
  {
   "cell_type": "code",
   "execution_count": 11,
   "metadata": {},
   "outputs": [],
   "source": [
    "import numpy as np\n",
    "from sklearn.linear_model import LogisticRegression\n",
    "from sklearn.naive_bayes import GaussianNB\n",
    "from sklearn.ensemble import RandomForestClassifier, VotingClassifier\n",
    "from sklearn import model_selection\n",
    "from mlxtend.classifier import EnsembleVoteClassifier"
   ]
  },
  {
   "cell_type": "code",
   "execution_count": 12,
   "metadata": {},
   "outputs": [
    {
     "name": "stdout",
     "output_type": "stream",
     "text": [
      "5-fold cross validation:\n",
      "\n",
      "Precision: 0.84 (+/- 0.01) [SVC]\n",
      "Precision: 0.85 (+/- 0.01) [Random Forest]\n",
      "Precision: 0.86 (+/- 0.01) [XGBoost]\n",
      "Precision: 0.85 (+/- 0.01) [Ensemble]\n"
     ]
    }
   ],
   "source": [
    "clf1 = svm.SVC(gamma = 'scale', probability=True)\n",
    "clf2 = RandomForestClassifier(n_estimators=300, max_depth=30, random_state =0)\n",
    "clf3 = xgb.XGBClassifier(n_estimators=100, max_depth=8, learning_rate=0.1, subsample=0.5)\n",
    "\n",
    "eclf = EnsembleVoteClassifier(clfs=[clf1, clf2, clf3], weights=[1,1,1])\n",
    "\n",
    "print('5-fold cross validation:\\n')\n",
    "\n",
    "labels = ['SVC', 'Random Forest', 'XGBoost', 'Ensemble']\n",
    "\n",
    "for clf, label in zip([clf1, clf2, clf3, eclf], labels):\n",
    "\n",
    "    scores = model_selection.cross_val_score(clf, x_train, y_train, \n",
    "                                              cv=5, \n",
    "                                              scoring='precision')\n",
    "    print(\"Precision: %0.2f (+/- %0.2f) [%s]\" \n",
    "          % (scores.mean(), scores.std(), label))"
   ]
  },
  {
   "cell_type": "code",
   "execution_count": 14,
   "metadata": {},
   "outputs": [
    {
     "name": "stderr",
     "output_type": "stream",
     "text": [
      "C:\\Users\\kim\\Anaconda3\\lib\\site-packages\\ipykernel_launcher.py:6: SettingWithCopyWarning: \n",
      "A value is trying to be set on a copy of a slice from a DataFrame.\n",
      "Try using .loc[row_indexer,col_indexer] = value instead\n",
      "\n",
      "See the caveats in the documentation: http://pandas.pydata.org/pandas-docs/stable/indexing.html#indexing-view-versus-copy\n",
      "  \n"
     ]
    },
    {
     "data": {
      "image/png": "[encoded data removed]",
      "text/plain": [
       "<Figure size 432x288 with 1 Axes>"
      ]
     },
     "metadata": {
      "needs_background": "light"
     },
     "output_type": "display_data"
    }
   ],
   "source": [
    "data_norm2 = data_norm1[data_norm1['ClassA']==0]\n",
    "\n",
    "def func(data_norm2) :\n",
    "    if data_norm2['Class'] == 21 : return 1\n",
    "    else : return 0\n",
    "data_norm2['ClassA'] = data_norm2.apply(func, axis = 1)\n",
    "\n",
    "train, test = train_test_split(data_norm2, test_size = 0.3)\n",
    "x_train = train.drop(['Class','ClassA'], axis=1)\n",
    "y_train = train['ClassA']\n",
    "x_test = test.drop(['Class','ClassA'], axis=1)\n",
    "y_test = test['ClassA']\n",
    "\n",
    "smote = SMOTE(random_state=42,ratio='minority')\n",
    "x_train_sm, y_train_sm = smote.fit_sample(x_train, y_train)\n",
    "\n",
    "sns.countplot(y_train_sm)\n",
    "plt.show()\n",
    "\n",
    "x_test=x_test.values\n",
    "y_test=y_test.values"
   ]
  },
  {
   "cell_type": "code",
   "execution_count": 15,
   "metadata": {},
   "outputs": [
    {
     "name": "stdout",
     "output_type": "stream",
     "text": [
      "5-fold cross validation:\n",
      "\n",
      "Precision: 0.85 (+/- 0.02) [SVC]\n",
      "Precision: 0.84 (+/- 0.02) [Random Forest]\n",
      "Precision: 0.82 (+/- 0.02) [XGBoost]\n",
      "Precision: 0.85 (+/- 0.02) [Ensemble]\n"
     ]
    }
   ],
   "source": [
    "clf1 = svm.SVC(gamma = 'scale', probability=True)\n",
    "clf2 = RandomForestClassifier(n_estimators=300, max_depth=30, random_state =0)\n",
    "clf3 = xgb.XGBClassifier(n_estimators=100, max_depth=8, learning_rate=0.1, subsample=0.5)\n",
    "\n",
    "eclf = EnsembleVoteClassifier(clfs=[clf1, clf2, clf3], weights=[1,1,1])\n",
    "\n",
    "print('5-fold cross validation:\\n')\n",
    "\n",
    "labels = ['SVC', 'Random Forest', 'XGBoost', 'Ensemble']\n",
    "\n",
    "for clf, label in zip([clf1, clf2, clf3, eclf], labels):\n",
    "\n",
    "    scores = model_selection.cross_val_score(clf, x_train, y_train, \n",
    "                                              cv=5, \n",
    "                                              scoring='precision')\n",
    "    print(\"Precision: %0.2f (+/- %0.2f) [%s]\" \n",
    "          % (scores.mean(), scores.std(), label))"
   ]
  },
  {
   "cell_type": "code",
   "execution_count": 16,
   "metadata": {},
   "outputs": [
    {
     "name": "stderr",
     "output_type": "stream",
     "text": [
      "C:\\Users\\kim\\Anaconda3\\lib\\site-packages\\ipykernel_launcher.py:6: SettingWithCopyWarning: \n",
      "A value is trying to be set on a copy of a slice from a DataFrame.\n",
      "Try using .loc[row_indexer,col_indexer] = value instead\n",
      "\n",
      "See the caveats in the documentation: http://pandas.pydata.org/pandas-docs/stable/indexing.html#indexing-view-versus-copy\n",
      "  \n"
     ]
    },
    {
     "data": {
      "image/png": "[encoded data removed]",
      "text/plain": [
       "<Figure size 432x288 with 1 Axes>"
      ]
     },
     "metadata": {
      "needs_background": "light"
     },
     "output_type": "display_data"
    }
   ],
   "source": [
    "data_norm3 = data_norm2[data_norm2['ClassA']==0]\n",
    "\n",
    "def func(data_norm3) :\n",
    "    if data_norm3['Class'] == 17 : return 1\n",
    "    else : return 0\n",
    "data_norm3['ClassA'] = data_norm3.apply(func, axis = 1)\n",
    "\n",
    "train, test = train_test_split(data_norm3, test_size = 0.3)\n",
    "x_train = train.drop(['Class','ClassA'], axis=1)\n",
    "y_train = train['ClassA']\n",
    "x_test = test.drop(['Class','ClassA'], axis=1)\n",
    "y_test = test['ClassA']\n",
    "\n",
    "train2=train.drop('Class',axis=1)\n",
    "\n",
    "smote = SMOTE(random_state=42,ratio='minority')\n",
    "x_train_sm, y_train_sm = smote.fit_sample(x_train, y_train)\n",
    "\n",
    "sns.countplot(y_train_sm)\n",
    "plt.show()\n",
    "\n",
    "x_test=x_test.values\n",
    "y_test=y_test.values"
   ]
  },
  {
   "cell_type": "code",
   "execution_count": 17,
   "metadata": {},
   "outputs": [
    {
     "name": "stdout",
     "output_type": "stream",
     "text": [
      "5-fold cross validation:\n",
      "\n",
      "Precision: 0.68 (+/- 0.01) [SVC]\n",
      "Precision: 0.63 (+/- 0.03) [Random Forest]\n",
      "Precision: 0.58 (+/- 0.05) [XGBoost]\n",
      "Precision: 0.65 (+/- 0.04) [Ensemble]\n"
     ]
    }
   ],
   "source": [
    "clf1 = svm.SVC(gamma = 'scale', probability=True)\n",
    "clf2 = RandomForestClassifier(n_estimators=300, max_depth=30, random_state =0)\n",
    "clf3 = xgb.XGBClassifier(n_estimators=100, max_depth=8, learning_rate=0.1, subsample=0.5)\n",
    "\n",
    "eclf = EnsembleVoteClassifier(clfs=[clf1, clf2, clf3], weights=[1,1,1])\n",
    "\n",
    "print('5-fold cross validation:\\n')\n",
    "\n",
    "labels = ['SVC', 'Random Forest', 'XGBoost', 'Ensemble']\n",
    "\n",
    "for clf, label in zip([clf1, clf2, clf3, eclf], labels):\n",
    "\n",
    "    scores = model_selection.cross_val_score(clf, x_train, y_train, \n",
    "                                              cv=5, \n",
    "                                              scoring='precision')\n",
    "    print(\"Precision: %0.2f (+/- %0.2f) [%s]\" \n",
    "          % (scores.mean(), scores.std(), label))"
   ]
  },
  {
   "cell_type": "code",
   "execution_count": 18,
   "metadata": {},
   "outputs": [
    {
     "name": "stderr",
     "output_type": "stream",
     "text": [
      "C:\\Users\\kim\\Anaconda3\\lib\\site-packages\\ipykernel_launcher.py:6: SettingWithCopyWarning: \n",
      "A value is trying to be set on a copy of a slice from a DataFrame.\n",
      "Try using .loc[row_indexer,col_indexer] = value instead\n",
      "\n",
      "See the caveats in the documentation: http://pandas.pydata.org/pandas-docs/stable/indexing.html#indexing-view-versus-copy\n",
      "  \n"
     ]
    },
    {
     "data": {
      "image/png": "[encoded data removed]",
      "text/plain": [
       "<Figure size 432x288 with 1 Axes>"
      ]
     },
     "metadata": {
      "needs_background": "light"
     },
     "output_type": "display_data"
    }
   ],
   "source": [
    "data_norm4 = data_norm3[data_norm3['ClassA']==0]\n",
    "\n",
    "def func(data_norm4) :\n",
    "    if data_norm4['Class'] == 16 : return 1\n",
    "    else : return 0\n",
    "data_norm4['ClassA'] = data_norm4.apply(func, axis = 1)\n",
    "\n",
    "train, test = train_test_split(data_norm4, test_size = 0.3)\n",
    "x_train = train.drop(['Class','ClassA'], axis=1)\n",
    "y_train = train['ClassA']\n",
    "x_test = test.drop(['Class','ClassA'], axis=1)\n",
    "y_test = test['ClassA']\n",
    "\n",
    "train2=train.drop('Class',axis=1)\n",
    "\n",
    "smote = SMOTE(random_state=42,ratio='minority')\n",
    "x_train_sm, y_train_sm = smote.fit_sample(x_train, y_train)\n",
    "\n",
    "sns.countplot(y_train_sm)\n",
    "plt.show()\n",
    "\n",
    "x_test=x_test.values\n",
    "y_test=y_test.values"
   ]
  },
  {
   "cell_type": "code",
   "execution_count": 19,
   "metadata": {},
   "outputs": [
    {
     "name": "stdout",
     "output_type": "stream",
     "text": [
      "5-fold cross validation:\n",
      "\n",
      "Precision: 0.69 (+/- 0.02) [SVC]\n",
      "Precision: 0.69 (+/- 0.03) [Random Forest]\n",
      "Precision: 0.65 (+/- 0.03) [XGBoost]\n",
      "Precision: 0.69 (+/- 0.03) [Ensemble]\n"
     ]
    }
   ],
   "source": [
    "clf1 = svm.SVC(gamma = 'scale', probability=True)\n",
    "clf2 = RandomForestClassifier(n_estimators=300, max_depth=30, random_state =0)\n",
    "clf3 = xgb.XGBClassifier(n_estimators=100, max_depth=8, learning_rate=0.1, subsample=0.5)\n",
    "\n",
    "eclf = EnsembleVoteClassifier(clfs=[clf1, clf2, clf3], weights=[1,1,1])\n",
    "\n",
    "print('5-fold cross validation:\\n')\n",
    "\n",
    "labels = ['SVC', 'Random Forest', 'XGBoost', 'Ensemble']\n",
    "\n",
    "for clf, label in zip([clf1, clf2, clf3, eclf], labels):\n",
    "\n",
    "    scores = model_selection.cross_val_score(clf, x_train, y_train, \n",
    "                                              cv=5, \n",
    "                                              scoring='precision')\n",
    "    print(\"Precision: %0.2f (+/- %0.2f) [%s]\" \n",
    "          % (scores.mean(), scores.std(), label))"
   ]
  },
  {
   "cell_type": "code",
   "execution_count": 20,
   "metadata": {},
   "outputs": [
    {
     "name": "stderr",
     "output_type": "stream",
     "text": [
      "C:\\Users\\kim\\Anaconda3\\lib\\site-packages\\ipykernel_launcher.py:6: SettingWithCopyWarning: \n",
      "A value is trying to be set on a copy of a slice from a DataFrame.\n",
      "Try using .loc[row_indexer,col_indexer] = value instead\n",
      "\n",
      "See the caveats in the documentation: http://pandas.pydata.org/pandas-docs/stable/indexing.html#indexing-view-versus-copy\n",
      "  \n"
     ]
    },
    {
     "data": {
      "image/png": "[encoded data removed]",
      "text/plain": [
       "<Figure size 432x288 with 1 Axes>"
      ]
     },
     "metadata": {
      "needs_background": "light"
     },
     "output_type": "display_data"
    }
   ],
   "source": [
    "data_norm5 = data_norm4[data_norm4['ClassA']==0]\n",
    "\n",
    "def func(data_norm5) :\n",
    "    if data_norm5['Class'] == 198 : return 1\n",
    "    else : return 0\n",
    "data_norm5['ClassA'] = data_norm5.apply(func, axis = 1)\n",
    "\n",
    "train, test = train_test_split(data_norm5, test_size = 0.3)\n",
    "x_train = train.drop(['Class','ClassA'], axis=1)\n",
    "y_train = train['ClassA']\n",
    "x_test = test.drop(['Class','ClassA'], axis=1)\n",
    "y_test = test['ClassA']\n",
    "\n",
    "train2=train.drop('Class',axis=1)\n",
    "\n",
    "smote = SMOTE(random_state=42,ratio='minority')\n",
    "x_train_sm, y_train_sm = smote.fit_sample(x_train, y_train)\n",
    "\n",
    "sns.countplot(y_train_sm)\n",
    "plt.show()\n",
    "\n",
    "x_test=x_test.values\n",
    "y_test=y_test.values"
   ]
  },
  {
   "cell_type": "code",
   "execution_count": 21,
   "metadata": {},
   "outputs": [
    {
     "name": "stdout",
     "output_type": "stream",
     "text": [
      "5-fold cross validation:\n",
      "\n",
      "Precision: 0.99 (+/- 0.01) [SVC]\n",
      "Precision: 0.99 (+/- 0.01) [Random Forest]\n",
      "Precision: 0.98 (+/- 0.01) [XGBoost]\n",
      "Precision: 0.99 (+/- 0.01) [Ensemble]\n"
     ]
    }
   ],
   "source": [
    "clf1 = svm.SVC(gamma = 'scale', probability=True)\n",
    "clf2 = RandomForestClassifier(n_estimators=300, max_depth=30, random_state =0)\n",
    "clf3 = xgb.XGBClassifier(n_estimators=100, max_depth=8, learning_rate=0.1, subsample=0.5)\n",
    "\n",
    "eclf = EnsembleVoteClassifier(clfs=[clf1, clf2, clf3], weights=[1,1,1])\n",
    "\n",
    "print('5-fold cross validation:\\n')\n",
    "\n",
    "labels = ['SVC', 'Random Forest', 'XGBoost', 'Ensemble']\n",
    "\n",
    "for clf, label in zip([clf1, clf2, clf3, eclf], labels):\n",
    "\n",
    "    scores = model_selection.cross_val_score(clf, x_train, y_train, \n",
    "                                              cv=5, \n",
    "                                              scoring='precision')\n",
    "    print(\"Precision: %0.2f (+/- %0.2f) [%s]\" \n",
    "          % (scores.mean(), scores.std(), label))"
   ]
  },
  {
   "cell_type": "code",
   "execution_count": 22,
   "metadata": {},
   "outputs": [
    {
     "name": "stderr",
     "output_type": "stream",
     "text": [
      "C:\\Users\\kim\\Anaconda3\\lib\\site-packages\\ipykernel_launcher.py:6: SettingWithCopyWarning: \n",
      "A value is trying to be set on a copy of a slice from a DataFrame.\n",
      "Try using .loc[row_indexer,col_indexer] = value instead\n",
      "\n",
      "See the caveats in the documentation: http://pandas.pydata.org/pandas-docs/stable/indexing.html#indexing-view-versus-copy\n",
      "  \n"
     ]
    },
    {
     "data": {
      "image/png": "[encoded data removed]",
      "text/plain": [
       "<Figure size 432x288 with 1 Axes>"
      ]
     },
     "metadata": {
      "needs_background": "light"
     },
     "output_type": "display_data"
    }
   ],
   "source": [
    "data_norm6 = data_norm5[data_norm5['ClassA']==0]\n",
    "\n",
    "def func(data_norm6) :\n",
    "    if data_norm6['Class'] == 76 : return 1\n",
    "    else : return 0\n",
    "data_norm6['ClassA'] = data_norm6.apply(func, axis = 1)\n",
    "\n",
    "train, test = train_test_split(data_norm6, test_size = 0.3)\n",
    "x_train = train.drop(['Class','ClassA'], axis=1)\n",
    "y_train = train['ClassA']\n",
    "x_test = test.drop(['Class','ClassA'], axis=1)\n",
    "y_test = test['ClassA']\n",
    "\n",
    "train2=train.drop('Class',axis=1)\n",
    "\n",
    "smote = SMOTE(random_state=42,ratio='minority')\n",
    "x_train_sm, y_train_sm = smote.fit_sample(x_train, y_train)\n",
    "\n",
    "sns.countplot(y_train_sm)\n",
    "plt.show()\n",
    "\n",
    "x_test=x_test.values\n",
    "y_test=y_test.values"
   ]
  },
  {
   "cell_type": "code",
   "execution_count": 23,
   "metadata": {},
   "outputs": [
    {
     "name": "stdout",
     "output_type": "stream",
     "text": [
      "5-fold cross validation:\n",
      "\n",
      "Precision: 0.87 (+/- 0.02) [SVC]\n",
      "Precision: 0.89 (+/- 0.01) [Random Forest]\n",
      "Precision: 0.88 (+/- 0.02) [XGBoost]\n",
      "Precision: 0.89 (+/- 0.02) [Ensemble]\n"
     ]
    }
   ],
   "source": [
    "clf1 = svm.SVC(gamma = 'scale', probability=True)\n",
    "clf2 = RandomForestClassifier(n_estimators=300, max_depth=30, random_state =0)\n",
    "clf3 = xgb.XGBClassifier(n_estimators=100, max_depth=8, learning_rate=0.1, subsample=0.5)\n",
    "\n",
    "eclf = EnsembleVoteClassifier(clfs=[clf1, clf2, clf3], weights=[1,1,1])\n",
    "\n",
    "print('5-fold cross validation:\\n')\n",
    "\n",
    "labels = ['SVC', 'Random Forest', 'XGBoost', 'Ensemble']\n",
    "\n",
    "for clf, label in zip([clf1, clf2, clf3, eclf], labels):\n",
    "\n",
    "    scores = model_selection.cross_val_score(clf, x_train, y_train, \n",
    "                                              cv=5, \n",
    "                                              scoring='precision')\n",
    "    print(\"Precision: %0.2f (+/- %0.2f) [%s]\" \n",
    "          % (scores.mean(), scores.std(), label))"
   ]
  },
  {
   "cell_type": "code",
   "execution_count": null,
   "metadata": {},
   "outputs": [],
   "source": []
  },
  {
   "cell_type": "code",
   "execution_count": null,
   "metadata": {},
   "outputs": [],
   "source": []
  },
  {
   "cell_type": "code",
   "execution_count": null,
   "metadata": {},
   "outputs": [],
   "source": []
  }
 ],
 "metadata": {
  "kernelspec": {
   "display_name": "Python 3",
   "language": "python",
   "name": "python3"
  },
  "language_info": {
   "codemirror_mode": {
    "name": "ipython",
    "version": 3
   },
   "file_extension": ".py",
   "mimetype": "text/x-python",
   "name": "python",
   "nbconvert_exporter": "python",
   "pygments_lexer": "ipython3",
   "version": "3.7.3"
  }
 },
 "nbformat": 4,
 "nbformat_minor": 2
}
