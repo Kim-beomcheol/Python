{
 "cells": [
  {
   "cell_type": "code",
   "execution_count": 1,
   "metadata": {},
   "outputs": [
    {
     "name": "stderr",
     "output_type": "stream",
     "text": [
      "Using TensorFlow backend.\n"
     ]
    }
   ],
   "source": [
    "import pandas as pd\n",
    "import numpy as np\n",
    "from sklearn import preprocessing\n",
    "import seaborn as sns\n",
    "import os \n",
    "import warnings\n",
    "from patsy import dmatrices\n",
    "import statsmodels.api as sm;\n",
    "from statsmodels.stats.outliers_influence import variance_inflation_factor\n",
    "from pylab import rcParams\n",
    "\n",
    "%matplotlib inline\n",
    "\n",
    "\n",
    "from imblearn.over_sampling import SMOTE\n",
    "from matplotlib import pyplot as plt\n",
    "import xgboost as xgb\n",
    "\n",
    "import lightgbm as lgb\n",
    "import sklearn\n",
    "\n",
    "from sklearn.linear_model import LogisticRegression\n",
    "from imblearn.over_sampling import SMOTE\n",
    "from imblearn.over_sampling import RandomOverSampler\n",
    "from sklearn.preprocessing import StandardScaler\n",
    "from sklearn.preprocessing import MinMaxScaler\n",
    "from sklearn.utils import shuffle\n",
    "from sklearn.decomposition import PCA\n",
    "from sklearn.metrics import confusion_matrix\n",
    "from sklearn.metrics import mean_squared_error\n",
    "from sklearn.metrics import roc_auc_score\n",
    "from sklearn.metrics import classification_report,accuracy_score\n",
    "from sklearn.ensemble import IsolationForest\n",
    "from sklearn.neighbors import LocalOutlierFactor\n",
    "from sklearn.svm import OneClassSVM\n",
    "from sklearn.model_selection import StratifiedKFold,KFold\n",
    "from sklearn.model_selection import train_test_split\n",
    "\n",
    "\n",
    "import warnings"
   ]
  },
  {
   "cell_type": "markdown",
   "metadata": {},
   "source": [
    "# EDA"
   ]
  },
  {
   "cell_type": "code",
   "execution_count": 2,
   "metadata": {},
   "outputs": [
    {
     "name": "stdout",
     "output_type": "stream",
     "text": [
      "(53692, 94)\n"
     ]
    }
   ],
   "source": [
    "#data = pd.read_csv('D:/FV_raw/S01_total_rev.csv')\n",
    "data = pd.read_csv('C:\\\\Users\\\\\\koreaw\\\\비즈니스어낼리틱스\\\\BA_data\\\\S01_data_rev_1.csv')\n",
    "print(data.shape)"
   ]
  },
  {
   "cell_type": "code",
   "execution_count": 3,
   "metadata": {},
   "outputs": [
    {
     "data": {
      "text/html": [
       "<div>\n",
       "<style scoped>\n",
       "    .dataframe tbody tr th:only-of-type {\n",
       "        vertical-align: middle;\n",
       "    }\n",
       "\n",
       "    .dataframe tbody tr th {\n",
       "        vertical-align: top;\n",
       "    }\n",
       "\n",
       "    .dataframe thead th {\n",
       "        text-align: right;\n",
       "    }\n",
       "</style>\n",
       "<table border=\"1\" class=\"dataframe\">\n",
       "  <thead>\n",
       "    <tr style=\"text-align: right;\">\n",
       "      <th></th>\n",
       "      <th>0</th>\n",
       "      <th>1</th>\n",
       "      <th>2</th>\n",
       "      <th>3</th>\n",
       "      <th>4</th>\n",
       "      <th>5</th>\n",
       "      <th>6</th>\n",
       "      <th>7</th>\n",
       "      <th>8</th>\n",
       "      <th>9</th>\n",
       "      <th>...</th>\n",
       "      <th>79</th>\n",
       "      <th>80</th>\n",
       "      <th>81</th>\n",
       "      <th>82</th>\n",
       "      <th>83</th>\n",
       "      <th>84</th>\n",
       "      <th>85</th>\n",
       "      <th>86</th>\n",
       "      <th>87</th>\n",
       "      <th>Class</th>\n",
       "    </tr>\n",
       "  </thead>\n",
       "  <tbody>\n",
       "    <tr>\n",
       "      <th>0</th>\n",
       "      <td>0.704672</td>\n",
       "      <td>0.613381</td>\n",
       "      <td>0.602628</td>\n",
       "      <td>0.3787</td>\n",
       "      <td>0.0</td>\n",
       "      <td>0.613485</td>\n",
       "      <td>0.826649</td>\n",
       "      <td>0.826649</td>\n",
       "      <td>0.6131</td>\n",
       "      <td>0.0</td>\n",
       "      <td>...</td>\n",
       "      <td>0.085121</td>\n",
       "      <td>0.036100</td>\n",
       "      <td>0.088404</td>\n",
       "      <td>0.135428</td>\n",
       "      <td>0.0328</td>\n",
       "      <td>0.7236</td>\n",
       "      <td>0.00000</td>\n",
       "      <td>0.000000</td>\n",
       "      <td>0.5</td>\n",
       "      <td>17</td>\n",
       "    </tr>\n",
       "    <tr>\n",
       "      <th>1</th>\n",
       "      <td>0.276039</td>\n",
       "      <td>0.489615</td>\n",
       "      <td>0.488530</td>\n",
       "      <td>0.7500</td>\n",
       "      <td>0.0</td>\n",
       "      <td>0.489699</td>\n",
       "      <td>0.556513</td>\n",
       "      <td>0.556513</td>\n",
       "      <td>0.3868</td>\n",
       "      <td>0.0</td>\n",
       "      <td>...</td>\n",
       "      <td>0.099081</td>\n",
       "      <td>0.023713</td>\n",
       "      <td>0.078263</td>\n",
       "      <td>0.139745</td>\n",
       "      <td>0.0347</td>\n",
       "      <td>0.7902</td>\n",
       "      <td>0.00000</td>\n",
       "      <td>0.003934</td>\n",
       "      <td>1.0</td>\n",
       "      <td>21</td>\n",
       "    </tr>\n",
       "    <tr>\n",
       "      <th>2</th>\n",
       "      <td>0.180883</td>\n",
       "      <td>0.376915</td>\n",
       "      <td>0.429988</td>\n",
       "      <td>0.7500</td>\n",
       "      <td>0.0</td>\n",
       "      <td>0.376979</td>\n",
       "      <td>0.512430</td>\n",
       "      <td>0.396420</td>\n",
       "      <td>0.3868</td>\n",
       "      <td>0.0</td>\n",
       "      <td>...</td>\n",
       "      <td>0.115764</td>\n",
       "      <td>0.156609</td>\n",
       "      <td>0.222002</td>\n",
       "      <td>0.141652</td>\n",
       "      <td>0.1174</td>\n",
       "      <td>0.2804</td>\n",
       "      <td>0.01976</td>\n",
       "      <td>0.023164</td>\n",
       "      <td>1.0</td>\n",
       "      <td>9</td>\n",
       "    </tr>\n",
       "    <tr>\n",
       "      <th>3</th>\n",
       "      <td>0.227390</td>\n",
       "      <td>0.416411</td>\n",
       "      <td>0.446834</td>\n",
       "      <td>0.7901</td>\n",
       "      <td>0.0</td>\n",
       "      <td>0.416482</td>\n",
       "      <td>0.512430</td>\n",
       "      <td>0.460225</td>\n",
       "      <td>0.3868</td>\n",
       "      <td>0.0</td>\n",
       "      <td>...</td>\n",
       "      <td>0.090398</td>\n",
       "      <td>0.067953</td>\n",
       "      <td>0.152116</td>\n",
       "      <td>0.118261</td>\n",
       "      <td>0.0518</td>\n",
       "      <td>0.6053</td>\n",
       "      <td>0.00000</td>\n",
       "      <td>0.002404</td>\n",
       "      <td>1.0</td>\n",
       "      <td>21</td>\n",
       "    </tr>\n",
       "    <tr>\n",
       "      <th>4</th>\n",
       "      <td>0.161380</td>\n",
       "      <td>0.365169</td>\n",
       "      <td>0.429988</td>\n",
       "      <td>0.6875</td>\n",
       "      <td>0.0</td>\n",
       "      <td>0.365231</td>\n",
       "      <td>0.460225</td>\n",
       "      <td>0.460225</td>\n",
       "      <td>0.3868</td>\n",
       "      <td>0.0</td>\n",
       "      <td>...</td>\n",
       "      <td>0.009193</td>\n",
       "      <td>0.017342</td>\n",
       "      <td>0.024471</td>\n",
       "      <td>0.115149</td>\n",
       "      <td>0.0054</td>\n",
       "      <td>0.9704</td>\n",
       "      <td>0.00000</td>\n",
       "      <td>0.000000</td>\n",
       "      <td>0.5</td>\n",
       "      <td>9</td>\n",
       "    </tr>\n",
       "  </tbody>\n",
       "</table>\n",
       "<p>5 rows × 89 columns</p>\n",
       "</div>"
      ],
      "text/plain": [
       "          0         1         2       3    4         5         6         7  \\\n",
       "0  0.704672  0.613381  0.602628  0.3787  0.0  0.613485  0.826649  0.826649   \n",
       "1  0.276039  0.489615  0.488530  0.7500  0.0  0.489699  0.556513  0.556513   \n",
       "2  0.180883  0.376915  0.429988  0.7500  0.0  0.376979  0.512430  0.396420   \n",
       "3  0.227390  0.416411  0.446834  0.7901  0.0  0.416482  0.512430  0.460225   \n",
       "4  0.161380  0.365169  0.429988  0.6875  0.0  0.365231  0.460225  0.460225   \n",
       "\n",
       "        8    9  ...        79        80        81        82      83      84  \\\n",
       "0  0.6131  0.0  ...  0.085121  0.036100  0.088404  0.135428  0.0328  0.7236   \n",
       "1  0.3868  0.0  ...  0.099081  0.023713  0.078263  0.139745  0.0347  0.7902   \n",
       "2  0.3868  0.0  ...  0.115764  0.156609  0.222002  0.141652  0.1174  0.2804   \n",
       "3  0.3868  0.0  ...  0.090398  0.067953  0.152116  0.118261  0.0518  0.6053   \n",
       "4  0.3868  0.0  ...  0.009193  0.017342  0.024471  0.115149  0.0054  0.9704   \n",
       "\n",
       "        85        86   87  Class  \n",
       "0  0.00000  0.000000  0.5     17  \n",
       "1  0.00000  0.003934  1.0     21  \n",
       "2  0.01976  0.023164  1.0      9  \n",
       "3  0.00000  0.002404  1.0     21  \n",
       "4  0.00000  0.000000  0.5      9  \n",
       "\n",
       "[5 rows x 89 columns]"
      ]
     },
     "execution_count": 3,
     "metadata": {},
     "output_type": "execute_result"
    }
   ],
   "source": [
    "var = data.drop(['L0t','Class','S_NO','D_ID','FV89','FV90'], axis=1)\n",
    "target = data['Class']\n",
    "\n",
    "min_max_scaler = MinMaxScaler()\n",
    "data2_norm=min_max_scaler.fit_transform(var)\n",
    "data2_norm = pd.DataFrame(data2_norm)\n",
    "data_norm = data2_norm.merge(target.to_frame(),left_index=True, right_index = True)\n",
    "data_norm.head(5)"
   ]
  },
  {
   "cell_type": "code",
   "execution_count": 4,
   "metadata": {},
   "outputs": [
    {
     "data": {
      "text/html": [
       "<div>\n",
       "<style scoped>\n",
       "    .dataframe tbody tr th:only-of-type {\n",
       "        vertical-align: middle;\n",
       "    }\n",
       "\n",
       "    .dataframe tbody tr th {\n",
       "        vertical-align: top;\n",
       "    }\n",
       "\n",
       "    .dataframe thead th {\n",
       "        text-align: right;\n",
       "    }\n",
       "</style>\n",
       "<table border=\"1\" class=\"dataframe\">\n",
       "  <thead>\n",
       "    <tr style=\"text-align: right;\">\n",
       "      <th></th>\n",
       "      <th>0</th>\n",
       "      <th>1</th>\n",
       "      <th>2</th>\n",
       "      <th>3</th>\n",
       "      <th>4</th>\n",
       "      <th>5</th>\n",
       "      <th>6</th>\n",
       "      <th>7</th>\n",
       "      <th>8</th>\n",
       "      <th>9</th>\n",
       "      <th>10</th>\n",
       "      <th>11</th>\n",
       "      <th>12</th>\n",
       "      <th>13</th>\n",
       "      <th>14</th>\n",
       "      <th>15</th>\n",
       "      <th>16</th>\n",
       "      <th>17</th>\n",
       "      <th>Class</th>\n",
       "    </tr>\n",
       "  </thead>\n",
       "  <tbody>\n",
       "    <tr>\n",
       "      <th>0</th>\n",
       "      <td>0.130768</td>\n",
       "      <td>-1.038052</td>\n",
       "      <td>0.697290</td>\n",
       "      <td>0.165806</td>\n",
       "      <td>0.487045</td>\n",
       "      <td>0.896660</td>\n",
       "      <td>-0.127558</td>\n",
       "      <td>0.114706</td>\n",
       "      <td>0.154536</td>\n",
       "      <td>0.349317</td>\n",
       "      <td>0.264798</td>\n",
       "      <td>0.195927</td>\n",
       "      <td>0.076353</td>\n",
       "      <td>0.145501</td>\n",
       "      <td>-0.127520</td>\n",
       "      <td>-0.110704</td>\n",
       "      <td>0.127078</td>\n",
       "      <td>0.020761</td>\n",
       "      <td>17</td>\n",
       "    </tr>\n",
       "    <tr>\n",
       "      <th>1</th>\n",
       "      <td>-0.249376</td>\n",
       "      <td>-0.617195</td>\n",
       "      <td>-0.025617</td>\n",
       "      <td>-0.003057</td>\n",
       "      <td>-0.323223</td>\n",
       "      <td>-0.159566</td>\n",
       "      <td>-0.084079</td>\n",
       "      <td>0.192891</td>\n",
       "      <td>0.120966</td>\n",
       "      <td>0.012226</td>\n",
       "      <td>-0.033878</td>\n",
       "      <td>-0.075836</td>\n",
       "      <td>0.219057</td>\n",
       "      <td>0.133422</td>\n",
       "      <td>0.037402</td>\n",
       "      <td>-0.105950</td>\n",
       "      <td>0.002519</td>\n",
       "      <td>0.057020</td>\n",
       "      <td>21</td>\n",
       "    </tr>\n",
       "    <tr>\n",
       "      <th>2</th>\n",
       "      <td>-0.269553</td>\n",
       "      <td>-0.492975</td>\n",
       "      <td>-0.262176</td>\n",
       "      <td>-0.183749</td>\n",
       "      <td>-0.594876</td>\n",
       "      <td>0.122842</td>\n",
       "      <td>-0.117533</td>\n",
       "      <td>0.290239</td>\n",
       "      <td>-0.408543</td>\n",
       "      <td>-0.068274</td>\n",
       "      <td>-0.084349</td>\n",
       "      <td>-0.002861</td>\n",
       "      <td>-0.122769</td>\n",
       "      <td>0.042745</td>\n",
       "      <td>-0.005036</td>\n",
       "      <td>0.147850</td>\n",
       "      <td>-0.101937</td>\n",
       "      <td>-0.093063</td>\n",
       "      <td>9</td>\n",
       "    </tr>\n",
       "    <tr>\n",
       "      <th>3</th>\n",
       "      <td>-0.399706</td>\n",
       "      <td>-0.494862</td>\n",
       "      <td>-0.085869</td>\n",
       "      <td>-0.167540</td>\n",
       "      <td>0.414870</td>\n",
       "      <td>0.053105</td>\n",
       "      <td>-0.380552</td>\n",
       "      <td>0.034769</td>\n",
       "      <td>-0.154443</td>\n",
       "      <td>-0.006329</td>\n",
       "      <td>-0.109446</td>\n",
       "      <td>0.142629</td>\n",
       "      <td>-0.130427</td>\n",
       "      <td>0.049213</td>\n",
       "      <td>0.018222</td>\n",
       "      <td>-0.025605</td>\n",
       "      <td>-0.074968</td>\n",
       "      <td>-0.057281</td>\n",
       "      <td>21</td>\n",
       "    </tr>\n",
       "    <tr>\n",
       "      <th>4</th>\n",
       "      <td>-0.791584</td>\n",
       "      <td>-0.367674</td>\n",
       "      <td>-0.300121</td>\n",
       "      <td>0.297141</td>\n",
       "      <td>0.648399</td>\n",
       "      <td>0.088933</td>\n",
       "      <td>0.139348</td>\n",
       "      <td>-0.035591</td>\n",
       "      <td>0.070308</td>\n",
       "      <td>-0.099122</td>\n",
       "      <td>-0.016146</td>\n",
       "      <td>-0.236745</td>\n",
       "      <td>-0.078888</td>\n",
       "      <td>0.190031</td>\n",
       "      <td>0.224928</td>\n",
       "      <td>-0.088945</td>\n",
       "      <td>0.091973</td>\n",
       "      <td>-0.054262</td>\n",
       "      <td>9</td>\n",
       "    </tr>\n",
       "  </tbody>\n",
       "</table>\n",
       "</div>"
      ],
      "text/plain": [
       "          0         1         2         3         4         5         6  \\\n",
       "0  0.130768 -1.038052  0.697290  0.165806  0.487045  0.896660 -0.127558   \n",
       "1 -0.249376 -0.617195 -0.025617 -0.003057 -0.323223 -0.159566 -0.084079   \n",
       "2 -0.269553 -0.492975 -0.262176 -0.183749 -0.594876  0.122842 -0.117533   \n",
       "3 -0.399706 -0.494862 -0.085869 -0.167540  0.414870  0.053105 -0.380552   \n",
       "4 -0.791584 -0.367674 -0.300121  0.297141  0.648399  0.088933  0.139348   \n",
       "\n",
       "          7         8         9        10        11        12        13  \\\n",
       "0  0.114706  0.154536  0.349317  0.264798  0.195927  0.076353  0.145501   \n",
       "1  0.192891  0.120966  0.012226 -0.033878 -0.075836  0.219057  0.133422   \n",
       "2  0.290239 -0.408543 -0.068274 -0.084349 -0.002861 -0.122769  0.042745   \n",
       "3  0.034769 -0.154443 -0.006329 -0.109446  0.142629 -0.130427  0.049213   \n",
       "4 -0.035591  0.070308 -0.099122 -0.016146 -0.236745 -0.078888  0.190031   \n",
       "\n",
       "         14        15        16        17  Class  \n",
       "0 -0.127520 -0.110704  0.127078  0.020761     17  \n",
       "1  0.037402 -0.105950  0.002519  0.057020     21  \n",
       "2 -0.005036  0.147850 -0.101937 -0.093063      9  \n",
       "3  0.018222 -0.025605 -0.074968 -0.057281     21  \n",
       "4  0.224928 -0.088945  0.091973 -0.054262      9  "
      ]
     },
     "execution_count": 4,
     "metadata": {},
     "output_type": "execute_result"
    }
   ],
   "source": [
    "pca = PCA(n_components=0.95) #95%이상의 분산을 설명력을 갖는 차원축소\n",
    "new_data2 = pca.fit_transform(data2_norm)\n",
    "data2_norm2 = pd.DataFrame(new_data2)\n",
    "data_norm = data2_norm2.merge(target.to_frame(),left_index=True, right_index = True)\n",
    "data_norm.head(5)"
   ]
  },
  {
   "cell_type": "markdown",
   "metadata": {},
   "source": [
    "## Class 7개, 최종 데이터 셋 "
   ]
  },
  {
   "cell_type": "code",
   "execution_count": 5,
   "metadata": {},
   "outputs": [
    {
     "data": {
      "text/html": [
       "<div>\n",
       "<style scoped>\n",
       "    .dataframe tbody tr th:only-of-type {\n",
       "        vertical-align: middle;\n",
       "    }\n",
       "\n",
       "    .dataframe tbody tr th {\n",
       "        vertical-align: top;\n",
       "    }\n",
       "\n",
       "    .dataframe thead th {\n",
       "        text-align: right;\n",
       "    }\n",
       "</style>\n",
       "<table border=\"1\" class=\"dataframe\">\n",
       "  <thead>\n",
       "    <tr style=\"text-align: right;\">\n",
       "      <th></th>\n",
       "      <th>0</th>\n",
       "      <th>1</th>\n",
       "      <th>2</th>\n",
       "      <th>3</th>\n",
       "      <th>4</th>\n",
       "      <th>5</th>\n",
       "      <th>6</th>\n",
       "      <th>7</th>\n",
       "      <th>8</th>\n",
       "      <th>9</th>\n",
       "      <th>10</th>\n",
       "      <th>11</th>\n",
       "      <th>12</th>\n",
       "      <th>13</th>\n",
       "      <th>14</th>\n",
       "      <th>15</th>\n",
       "      <th>16</th>\n",
       "      <th>17</th>\n",
       "      <th>Class</th>\n",
       "      <th>ClassA</th>\n",
       "    </tr>\n",
       "  </thead>\n",
       "  <tbody>\n",
       "    <tr>\n",
       "      <th>0</th>\n",
       "      <td>0.130768</td>\n",
       "      <td>-1.038052</td>\n",
       "      <td>0.697290</td>\n",
       "      <td>0.165806</td>\n",
       "      <td>0.487045</td>\n",
       "      <td>0.896660</td>\n",
       "      <td>-0.127558</td>\n",
       "      <td>0.114706</td>\n",
       "      <td>0.154536</td>\n",
       "      <td>0.349317</td>\n",
       "      <td>0.264798</td>\n",
       "      <td>0.195927</td>\n",
       "      <td>0.076353</td>\n",
       "      <td>0.145501</td>\n",
       "      <td>-0.127520</td>\n",
       "      <td>-0.110704</td>\n",
       "      <td>0.127078</td>\n",
       "      <td>0.020761</td>\n",
       "      <td>17</td>\n",
       "      <td>17.0</td>\n",
       "    </tr>\n",
       "    <tr>\n",
       "      <th>1</th>\n",
       "      <td>-0.249376</td>\n",
       "      <td>-0.617195</td>\n",
       "      <td>-0.025617</td>\n",
       "      <td>-0.003057</td>\n",
       "      <td>-0.323223</td>\n",
       "      <td>-0.159566</td>\n",
       "      <td>-0.084079</td>\n",
       "      <td>0.192891</td>\n",
       "      <td>0.120966</td>\n",
       "      <td>0.012226</td>\n",
       "      <td>-0.033878</td>\n",
       "      <td>-0.075836</td>\n",
       "      <td>0.219057</td>\n",
       "      <td>0.133422</td>\n",
       "      <td>0.037402</td>\n",
       "      <td>-0.105950</td>\n",
       "      <td>0.002519</td>\n",
       "      <td>0.057020</td>\n",
       "      <td>21</td>\n",
       "      <td>21.0</td>\n",
       "    </tr>\n",
       "    <tr>\n",
       "      <th>2</th>\n",
       "      <td>-0.269553</td>\n",
       "      <td>-0.492975</td>\n",
       "      <td>-0.262176</td>\n",
       "      <td>-0.183749</td>\n",
       "      <td>-0.594876</td>\n",
       "      <td>0.122842</td>\n",
       "      <td>-0.117533</td>\n",
       "      <td>0.290239</td>\n",
       "      <td>-0.408543</td>\n",
       "      <td>-0.068274</td>\n",
       "      <td>-0.084349</td>\n",
       "      <td>-0.002861</td>\n",
       "      <td>-0.122769</td>\n",
       "      <td>0.042745</td>\n",
       "      <td>-0.005036</td>\n",
       "      <td>0.147850</td>\n",
       "      <td>-0.101937</td>\n",
       "      <td>-0.093063</td>\n",
       "      <td>9</td>\n",
       "      <td>9.0</td>\n",
       "    </tr>\n",
       "    <tr>\n",
       "      <th>3</th>\n",
       "      <td>-0.399706</td>\n",
       "      <td>-0.494862</td>\n",
       "      <td>-0.085869</td>\n",
       "      <td>-0.167540</td>\n",
       "      <td>0.414870</td>\n",
       "      <td>0.053105</td>\n",
       "      <td>-0.380552</td>\n",
       "      <td>0.034769</td>\n",
       "      <td>-0.154443</td>\n",
       "      <td>-0.006329</td>\n",
       "      <td>-0.109446</td>\n",
       "      <td>0.142629</td>\n",
       "      <td>-0.130427</td>\n",
       "      <td>0.049213</td>\n",
       "      <td>0.018222</td>\n",
       "      <td>-0.025605</td>\n",
       "      <td>-0.074968</td>\n",
       "      <td>-0.057281</td>\n",
       "      <td>21</td>\n",
       "      <td>21.0</td>\n",
       "    </tr>\n",
       "    <tr>\n",
       "      <th>4</th>\n",
       "      <td>-0.791584</td>\n",
       "      <td>-0.367674</td>\n",
       "      <td>-0.300121</td>\n",
       "      <td>0.297141</td>\n",
       "      <td>0.648399</td>\n",
       "      <td>0.088933</td>\n",
       "      <td>0.139348</td>\n",
       "      <td>-0.035591</td>\n",
       "      <td>0.070308</td>\n",
       "      <td>-0.099122</td>\n",
       "      <td>-0.016146</td>\n",
       "      <td>-0.236745</td>\n",
       "      <td>-0.078888</td>\n",
       "      <td>0.190031</td>\n",
       "      <td>0.224928</td>\n",
       "      <td>-0.088945</td>\n",
       "      <td>0.091973</td>\n",
       "      <td>-0.054262</td>\n",
       "      <td>9</td>\n",
       "      <td>9.0</td>\n",
       "    </tr>\n",
       "  </tbody>\n",
       "</table>\n",
       "</div>"
      ],
      "text/plain": [
       "          0         1         2         3         4         5         6  \\\n",
       "0  0.130768 -1.038052  0.697290  0.165806  0.487045  0.896660 -0.127558   \n",
       "1 -0.249376 -0.617195 -0.025617 -0.003057 -0.323223 -0.159566 -0.084079   \n",
       "2 -0.269553 -0.492975 -0.262176 -0.183749 -0.594876  0.122842 -0.117533   \n",
       "3 -0.399706 -0.494862 -0.085869 -0.167540  0.414870  0.053105 -0.380552   \n",
       "4 -0.791584 -0.367674 -0.300121  0.297141  0.648399  0.088933  0.139348   \n",
       "\n",
       "          7         8         9        10        11        12        13  \\\n",
       "0  0.114706  0.154536  0.349317  0.264798  0.195927  0.076353  0.145501   \n",
       "1  0.192891  0.120966  0.012226 -0.033878 -0.075836  0.219057  0.133422   \n",
       "2  0.290239 -0.408543 -0.068274 -0.084349 -0.002861 -0.122769  0.042745   \n",
       "3  0.034769 -0.154443 -0.006329 -0.109446  0.142629 -0.130427  0.049213   \n",
       "4 -0.035591  0.070308 -0.099122 -0.016146 -0.236745 -0.078888  0.190031   \n",
       "\n",
       "         14        15        16        17  Class  ClassA  \n",
       "0 -0.127520 -0.110704  0.127078  0.020761     17    17.0  \n",
       "1  0.037402 -0.105950  0.002519  0.057020     21    21.0  \n",
       "2 -0.005036  0.147850 -0.101937 -0.093063      9     9.0  \n",
       "3  0.018222 -0.025605 -0.074968 -0.057281     21    21.0  \n",
       "4  0.224928 -0.088945  0.091973 -0.054262      9     9.0  "
      ]
     },
     "execution_count": 5,
     "metadata": {},
     "output_type": "execute_result"
    }
   ],
   "source": [
    "def func(data_norm) :\n",
    "    if data_norm['Class'] == 9 or data_norm['Class'] == 21 or data_norm['Class'] == 17 \\\n",
    "    or data_norm['Class'] == 16 or data_norm['Class'] == 198 or data_norm['Class'] == 76 \\\n",
    "    or data_norm['Class'] == 22 :\n",
    "        return data_norm['Class']\n",
    "    else : return 200\n",
    "data_norm['ClassA'] = data_norm.apply(func, axis = 1)\n",
    "data_norm1 = data_norm[data_norm['ClassA'] != 200]\n",
    "\n",
    "data_norm1.head(5)"
   ]
  },
  {
   "cell_type": "markdown",
   "metadata": {},
   "source": [
    "## AdaBoost"
   ]
  },
  {
   "cell_type": "markdown",
   "metadata": {},
   "source": [
    "### 9 vs all"
   ]
  },
  {
   "cell_type": "code",
   "execution_count": 6,
   "metadata": {},
   "outputs": [
    {
     "name": "stderr",
     "output_type": "stream",
     "text": [
      "C:\\ProgramData\\Anaconda3\\envs\\tf_2\\lib\\site-packages\\ipykernel_launcher.py:4: SettingWithCopyWarning: \n",
      "A value is trying to be set on a copy of a slice from a DataFrame.\n",
      "Try using .loc[row_indexer,col_indexer] = value instead\n",
      "\n",
      "See the caveats in the documentation: http://pandas.pydata.org/pandas-docs/stable/user_guide/indexing.html#returning-a-view-versus-a-copy\n",
      "  after removing the cwd from sys.path.\n"
     ]
    }
   ],
   "source": [
    "def func(data_norm1) :\n",
    "    if data_norm1['Class'] == 9 : return 0\n",
    "    else : return 1\n",
    "data_norm1['ClassA'] = data_norm1.apply(func, axis = 1)"
   ]
  },
  {
   "cell_type": "code",
   "execution_count": 7,
   "metadata": {},
   "outputs": [
    {
     "data": {
      "text/html": [
       "<div>\n",
       "<style scoped>\n",
       "    .dataframe tbody tr th:only-of-type {\n",
       "        vertical-align: middle;\n",
       "    }\n",
       "\n",
       "    .dataframe tbody tr th {\n",
       "        vertical-align: top;\n",
       "    }\n",
       "\n",
       "    .dataframe thead th {\n",
       "        text-align: right;\n",
       "    }\n",
       "</style>\n",
       "<table border=\"1\" class=\"dataframe\">\n",
       "  <thead>\n",
       "    <tr style=\"text-align: right;\">\n",
       "      <th></th>\n",
       "      <th>0</th>\n",
       "      <th>1</th>\n",
       "      <th>2</th>\n",
       "      <th>3</th>\n",
       "      <th>4</th>\n",
       "      <th>5</th>\n",
       "      <th>6</th>\n",
       "      <th>7</th>\n",
       "      <th>8</th>\n",
       "      <th>9</th>\n",
       "      <th>10</th>\n",
       "      <th>11</th>\n",
       "      <th>12</th>\n",
       "      <th>13</th>\n",
       "      <th>14</th>\n",
       "      <th>15</th>\n",
       "      <th>16</th>\n",
       "      <th>17</th>\n",
       "      <th>Class</th>\n",
       "      <th>ClassA</th>\n",
       "    </tr>\n",
       "  </thead>\n",
       "  <tbody>\n",
       "    <tr>\n",
       "      <th>0</th>\n",
       "      <td>0.130768</td>\n",
       "      <td>-1.038052</td>\n",
       "      <td>0.697290</td>\n",
       "      <td>0.165806</td>\n",
       "      <td>0.487045</td>\n",
       "      <td>0.896660</td>\n",
       "      <td>-0.127558</td>\n",
       "      <td>0.114706</td>\n",
       "      <td>0.154536</td>\n",
       "      <td>0.349317</td>\n",
       "      <td>0.264798</td>\n",
       "      <td>0.195927</td>\n",
       "      <td>0.076353</td>\n",
       "      <td>0.145501</td>\n",
       "      <td>-0.127520</td>\n",
       "      <td>-0.110704</td>\n",
       "      <td>0.127078</td>\n",
       "      <td>0.020761</td>\n",
       "      <td>17</td>\n",
       "      <td>1</td>\n",
       "    </tr>\n",
       "    <tr>\n",
       "      <th>1</th>\n",
       "      <td>-0.249376</td>\n",
       "      <td>-0.617195</td>\n",
       "      <td>-0.025617</td>\n",
       "      <td>-0.003057</td>\n",
       "      <td>-0.323223</td>\n",
       "      <td>-0.159566</td>\n",
       "      <td>-0.084079</td>\n",
       "      <td>0.192891</td>\n",
       "      <td>0.120966</td>\n",
       "      <td>0.012226</td>\n",
       "      <td>-0.033878</td>\n",
       "      <td>-0.075836</td>\n",
       "      <td>0.219057</td>\n",
       "      <td>0.133422</td>\n",
       "      <td>0.037402</td>\n",
       "      <td>-0.105950</td>\n",
       "      <td>0.002519</td>\n",
       "      <td>0.057020</td>\n",
       "      <td>21</td>\n",
       "      <td>1</td>\n",
       "    </tr>\n",
       "    <tr>\n",
       "      <th>2</th>\n",
       "      <td>-0.269553</td>\n",
       "      <td>-0.492975</td>\n",
       "      <td>-0.262176</td>\n",
       "      <td>-0.183749</td>\n",
       "      <td>-0.594876</td>\n",
       "      <td>0.122842</td>\n",
       "      <td>-0.117533</td>\n",
       "      <td>0.290239</td>\n",
       "      <td>-0.408543</td>\n",
       "      <td>-0.068274</td>\n",
       "      <td>-0.084349</td>\n",
       "      <td>-0.002861</td>\n",
       "      <td>-0.122769</td>\n",
       "      <td>0.042745</td>\n",
       "      <td>-0.005036</td>\n",
       "      <td>0.147850</td>\n",
       "      <td>-0.101937</td>\n",
       "      <td>-0.093063</td>\n",
       "      <td>9</td>\n",
       "      <td>0</td>\n",
       "    </tr>\n",
       "    <tr>\n",
       "      <th>3</th>\n",
       "      <td>-0.399706</td>\n",
       "      <td>-0.494862</td>\n",
       "      <td>-0.085869</td>\n",
       "      <td>-0.167540</td>\n",
       "      <td>0.414870</td>\n",
       "      <td>0.053105</td>\n",
       "      <td>-0.380552</td>\n",
       "      <td>0.034769</td>\n",
       "      <td>-0.154443</td>\n",
       "      <td>-0.006329</td>\n",
       "      <td>-0.109446</td>\n",
       "      <td>0.142629</td>\n",
       "      <td>-0.130427</td>\n",
       "      <td>0.049213</td>\n",
       "      <td>0.018222</td>\n",
       "      <td>-0.025605</td>\n",
       "      <td>-0.074968</td>\n",
       "      <td>-0.057281</td>\n",
       "      <td>21</td>\n",
       "      <td>1</td>\n",
       "    </tr>\n",
       "    <tr>\n",
       "      <th>4</th>\n",
       "      <td>-0.791584</td>\n",
       "      <td>-0.367674</td>\n",
       "      <td>-0.300121</td>\n",
       "      <td>0.297141</td>\n",
       "      <td>0.648399</td>\n",
       "      <td>0.088933</td>\n",
       "      <td>0.139348</td>\n",
       "      <td>-0.035591</td>\n",
       "      <td>0.070308</td>\n",
       "      <td>-0.099122</td>\n",
       "      <td>-0.016146</td>\n",
       "      <td>-0.236745</td>\n",
       "      <td>-0.078888</td>\n",
       "      <td>0.190031</td>\n",
       "      <td>0.224928</td>\n",
       "      <td>-0.088945</td>\n",
       "      <td>0.091973</td>\n",
       "      <td>-0.054262</td>\n",
       "      <td>9</td>\n",
       "      <td>0</td>\n",
       "    </tr>\n",
       "  </tbody>\n",
       "</table>\n",
       "</div>"
      ],
      "text/plain": [
       "          0         1         2         3         4         5         6  \\\n",
       "0  0.130768 -1.038052  0.697290  0.165806  0.487045  0.896660 -0.127558   \n",
       "1 -0.249376 -0.617195 -0.025617 -0.003057 -0.323223 -0.159566 -0.084079   \n",
       "2 -0.269553 -0.492975 -0.262176 -0.183749 -0.594876  0.122842 -0.117533   \n",
       "3 -0.399706 -0.494862 -0.085869 -0.167540  0.414870  0.053105 -0.380552   \n",
       "4 -0.791584 -0.367674 -0.300121  0.297141  0.648399  0.088933  0.139348   \n",
       "\n",
       "          7         8         9        10        11        12        13  \\\n",
       "0  0.114706  0.154536  0.349317  0.264798  0.195927  0.076353  0.145501   \n",
       "1  0.192891  0.120966  0.012226 -0.033878 -0.075836  0.219057  0.133422   \n",
       "2  0.290239 -0.408543 -0.068274 -0.084349 -0.002861 -0.122769  0.042745   \n",
       "3  0.034769 -0.154443 -0.006329 -0.109446  0.142629 -0.130427  0.049213   \n",
       "4 -0.035591  0.070308 -0.099122 -0.016146 -0.236745 -0.078888  0.190031   \n",
       "\n",
       "         14        15        16        17  Class  ClassA  \n",
       "0 -0.127520 -0.110704  0.127078  0.020761     17       1  \n",
       "1  0.037402 -0.105950  0.002519  0.057020     21       1  \n",
       "2 -0.005036  0.147850 -0.101937 -0.093063      9       0  \n",
       "3  0.018222 -0.025605 -0.074968 -0.057281     21       1  \n",
       "4  0.224928 -0.088945  0.091973 -0.054262      9       0  "
      ]
     },
     "execution_count": 7,
     "metadata": {},
     "output_type": "execute_result"
    }
   ],
   "source": [
    "data_norm1.head()"
   ]
  },
  {
   "cell_type": "code",
   "execution_count": 9,
   "metadata": {},
   "outputs": [],
   "source": [
    "X= data_norm1.drop(['Class','ClassA'], axis=1)\n",
    "y= data_norm1['ClassA']\n",
    "\n",
    "train, test = train_test_split(data_norm1, test_size = 0.3)\n",
    "x_train = train.drop(['Class','ClassA'], axis=1)\n",
    "y_train = train['ClassA']\n",
    "x_test = test.drop(['Class','ClassA'], axis=1)\n",
    "y_test = test['ClassA']\n",
    "\n",
    "train2=train.drop('Class',axis=1)\n"
   ]
  },
  {
   "cell_type": "code",
   "execution_count": 10,
   "metadata": {},
   "outputs": [
    {
     "data": {
      "image/png": "[encoded data removed]",
      "text/plain": [
       "<Figure size 432x288 with 1 Axes>"
      ]
     },
     "metadata": {
      "needs_background": "light"
     },
     "output_type": "display_data"
    }
   ],
   "source": [
    "smote = SMOTE(random_state=42,ratio='minority')\n",
    "x_train_sm, y_train_sm = smote.fit_sample(x_train, y_train)\n",
    "\n",
    "sns.countplot(y_train_sm)\n",
    "plt.show()"
   ]
  },
  {
   "cell_type": "code",
   "execution_count": 11,
   "metadata": {},
   "outputs": [],
   "source": [
    "x_test=x_test.values\n",
    "y_test=y_test.values"
   ]
  },
  {
   "cell_type": "code",
   "execution_count": 12,
   "metadata": {},
   "outputs": [
    {
     "data": {
      "text/plain": [
       "0.7981359399863606"
      ]
     },
     "execution_count": 12,
     "metadata": {},
     "output_type": "execute_result"
    }
   ],
   "source": [
    "from sklearn.ensemble import AdaBoostClassifier\n",
    "\n",
    "adaBoost = AdaBoostClassifier(base_estimator=None,\n",
    "                              learning_rate=1.0,\n",
    "                              n_estimators=100)\n",
    "\n",
    "adaBoost.fit(x_train_sm, y_train_sm)\n",
    "\n",
    "y_pred = adaBoost.predict(x_test)\n",
    "\n",
    "from sklearn.metrics import accuracy_score\n",
    "\n",
    "accuracy_score(y_test, y_pred)"
   ]
  },
  {
   "cell_type": "code",
   "execution_count": 13,
   "metadata": {},
   "outputs": [
    {
     "name": "stdout",
     "output_type": "stream",
     "text": [
      "              precision    recall  f1-score   support\n",
      "\n",
      "           0       0.89      0.80      0.84      8877\n",
      "           1       0.66      0.80      0.72      4320\n",
      "\n",
      "    accuracy                           0.80     13197\n",
      "   macro avg       0.77      0.80      0.78     13197\n",
      "weighted avg       0.81      0.80      0.80     13197\n",
      "\n"
     ]
    }
   ],
   "source": [
    "print(classification_report(y_test, y_pred))"
   ]
  },
  {
   "cell_type": "code",
   "execution_count": 14,
   "metadata": {},
   "outputs": [],
   "source": [
    "#Train the XGboost Model for Classification\n",
    "model1 = xgb.XGBClassifier()\n",
    "model2 = xgb.XGBClassifier(n_estimators=100, max_depth=8, learning_rate=0.1, subsample=0.5)\n",
    "\n",
    "train_model1 = model1.fit(x_train_sm, y_train_sm)\n",
    "train_model2 = model2.fit(x_train_sm, y_train_sm)\n",
    "\n",
    "\n",
    "pred1 = train_model1.predict(x_test)\n",
    "pred2 = train_model2.predict(x_test)"
   ]
  },
  {
   "cell_type": "code",
   "execution_count": 19,
   "metadata": {},
   "outputs": [
    {
     "name": "stdout",
     "output_type": "stream",
     "text": [
      "              precision    recall  f1-score   support\n",
      "\n",
      "           0       0.90      0.85      0.87      8858\n",
      "           1       0.72      0.81      0.76      4339\n",
      "\n",
      "    accuracy                           0.83     13197\n",
      "   macro avg       0.81      0.83      0.82     13197\n",
      "weighted avg       0.84      0.83      0.84     13197\n",
      "\n",
      "------------------------------------------\n",
      "              precision    recall  f1-score   support\n",
      "\n",
      "           0       0.91      0.87      0.89      8858\n",
      "           1       0.76      0.81      0.79      4339\n",
      "\n",
      "    accuracy                           0.85     13197\n",
      "   macro avg       0.83      0.84      0.84     13197\n",
      "weighted avg       0.86      0.85      0.86     13197\n",
      "\n"
     ]
    }
   ],
   "source": [
    "print(classification_report(y_test, pred1))\n",
    "print(\"------------------------------------------\")\n",
    "print(classification_report(y_test, pred2))"
   ]
  },
  {
   "cell_type": "markdown",
   "metadata": {},
   "source": [
    "## Class 21 vs all"
   ]
  },
  {
   "cell_type": "code",
   "execution_count": 12,
   "metadata": {},
   "outputs": [
    {
     "name": "stderr",
     "output_type": "stream",
     "text": [
      "C:\\ProgramData\\Anaconda3\\envs\\tf_2\\lib\\site-packages\\ipykernel_launcher.py:6: SettingWithCopyWarning: \n",
      "A value is trying to be set on a copy of a slice from a DataFrame.\n",
      "Try using .loc[row_indexer,col_indexer] = value instead\n",
      "\n",
      "See the caveats in the documentation: http://pandas.pydata.org/pandas-docs/stable/user_guide/indexing.html#returning-a-view-versus-a-copy\n",
      "  \n"
     ]
    }
   ],
   "source": [
    "data_norm2 = data_norm1[data_norm1['ClassA']==1]\n",
    "\n",
    "def func(data_norm2) :\n",
    "    if data_norm2['Class'] == 21 : return 0\n",
    "    else : return 1\n",
    "data_norm2['ClassA'] = data_norm2.apply(func, axis = 1)\n",
    "\n",
    "train, test = train_test_split(data_norm2, test_size = 0.3)\n",
    "x_train = train.drop(['Class','ClassA'], axis=1)\n",
    "y_train = train['ClassA']\n",
    "x_test = test.drop(['Class','ClassA'], axis=1)\n",
    "y_test = test['ClassA']\n",
    "\n",
    "train2=train.drop('Class',axis=1)\n",
    "\n",
    "from imblearn.under_sampling import RandomUnderSampler\n",
    "\n",
    "ros = RandomUnderSampler(random_state=42)\n",
    "x_train_ros, y_train_ros = ros.fit_sample(x_train, y_train)\n",
    "\n",
    "smote = SMOTE(random_state=42,ratio='minority')\n",
    "x_train_sm, y_train_sm = smote.fit_sample(x_train, y_train)\n",
    "\n",
    "\n",
    "# sns.countplot(y_train_sm)\n",
    "# plt.show()\n",
    "\n",
    "x_test=x_test.values\n",
    "y_test=y_test.values"
   ]
  },
  {
   "cell_type": "code",
   "execution_count": 10,
   "metadata": {},
   "outputs": [
    {
     "data": {
      "text/plain": [
       "0.8478964401294499"
      ]
     },
     "execution_count": 10,
     "metadata": {},
     "output_type": "execute_result"
    }
   ],
   "source": [
    "from sklearn.ensemble import AdaBoostClassifier\n",
    "\n",
    "adaBoost = AdaBoostClassifier(base_estimator=None,\n",
    "                              learning_rate=1.0,\n",
    "                              n_estimators=100)\n",
    "\n",
    "adaBoost.fit(x_train, y_train)\n",
    "\n",
    "y_pred = adaBoost.predict(x_test)\n",
    "\n",
    "from sklearn.metrics import accuracy_score\n",
    "\n",
    "accuracy_score(y_test, y_pred)\n"
   ]
  },
  {
   "cell_type": "code",
   "execution_count": 16,
   "metadata": {},
   "outputs": [
    {
     "data": {
      "text/plain": [
       "0.7831715210355987"
      ]
     },
     "execution_count": 16,
     "metadata": {},
     "output_type": "execute_result"
    }
   ],
   "source": [
    "from sklearn.ensemble import AdaBoostClassifier\n",
    "\n",
    "adaBoost = AdaBoostClassifier(base_estimator=None,\n",
    "                              learning_rate=1.0,\n",
    "                              n_estimators=100)\n",
    "\n",
    "adaBoost.fit(x_train_sm, y_train_sm)\n",
    "\n",
    "y_pred2 = adaBoost.predict(x_test)\n",
    "\n",
    "from sklearn.metrics import accuracy_score\n",
    "\n",
    "accuracy_score(y_test, y_pred2)\n"
   ]
  },
  {
   "cell_type": "code",
   "execution_count": 17,
   "metadata": {},
   "outputs": [
    {
     "data": {
      "text/plain": [
       "0.7746185852981969"
      ]
     },
     "execution_count": 17,
     "metadata": {},
     "output_type": "execute_result"
    }
   ],
   "source": [
    "from sklearn.ensemble import AdaBoostClassifier\n",
    "\n",
    "adaBoost = AdaBoostClassifier(base_estimator=None,\n",
    "                              learning_rate=1.0,\n",
    "                              n_estimators=100)\n",
    "\n",
    "adaBoost.fit(x_train_ros, y_train_ros)\n",
    "\n",
    "y_pred3 = adaBoost.predict(x_test)\n",
    "\n",
    "from sklearn.metrics import accuracy_score\n",
    "\n",
    "accuracy_score(y_test, y_pred3)\n"
   ]
  },
  {
   "cell_type": "code",
   "execution_count": 11,
   "metadata": {},
   "outputs": [
    {
     "name": "stdout",
     "output_type": "stream",
     "text": [
      "              precision    recall  f1-score   support\n",
      "\n",
      "           0       0.70      0.53      0.60       948\n",
      "           1       0.88      0.94      0.91      3378\n",
      "\n",
      "    accuracy                           0.85      4326\n",
      "   macro avg       0.79      0.73      0.76      4326\n",
      "weighted avg       0.84      0.85      0.84      4326\n",
      "\n"
     ]
    }
   ],
   "source": [
    "print(classification_report(y_test, y_pred))\n"
   ]
  },
  {
   "cell_type": "code",
   "execution_count": 18,
   "metadata": {},
   "outputs": [
    {
     "name": "stdout",
     "output_type": "stream",
     "text": [
      "              precision    recall  f1-score   support\n",
      "\n",
      "           0       0.52      0.73      0.61      1002\n",
      "           1       0.91      0.80      0.85      3324\n",
      "\n",
      "    accuracy                           0.78      4326\n",
      "   macro avg       0.72      0.76      0.73      4326\n",
      "weighted avg       0.82      0.78      0.79      4326\n",
      "\n"
     ]
    }
   ],
   "source": [
    "print(classification_report(y_test, y_pred2))\n"
   ]
  },
  {
   "cell_type": "code",
   "execution_count": 19,
   "metadata": {},
   "outputs": [
    {
     "name": "stdout",
     "output_type": "stream",
     "text": [
      "              precision    recall  f1-score   support\n",
      "\n",
      "           0       0.51      0.76      0.61      1002\n",
      "           1       0.92      0.78      0.84      3324\n",
      "\n",
      "    accuracy                           0.77      4326\n",
      "   macro avg       0.71      0.77      0.73      4326\n",
      "weighted avg       0.82      0.77      0.79      4326\n",
      "\n"
     ]
    }
   ],
   "source": [
    "print(classification_report(y_test, y_pred3))\n"
   ]
  },
  {
   "cell_type": "code",
   "execution_count": 20,
   "metadata": {},
   "outputs": [],
   "source": [
    "#Train the XGboost Model for Classification\n",
    "model1 = xgb.XGBClassifier()\n",
    "model2 = xgb.XGBClassifier(n_estimators=100, max_depth=8, learning_rate=0.1, subsample=0.5)\n",
    "\n",
    "train_model1 = model1.fit(x_train_sm, y_train_sm)\n",
    "train_model2 = model2.fit(x_train_sm, y_train_sm)\n",
    "\n",
    "\n",
    "pred1 = train_model1.predict(x_test)\n",
    "pred2 = train_model2.predict(x_test)"
   ]
  },
  {
   "cell_type": "code",
   "execution_count": 21,
   "metadata": {},
   "outputs": [
    {
     "name": "stdout",
     "output_type": "stream",
     "text": [
      "              precision    recall  f1-score   support\n",
      "\n",
      "           0       0.60      0.75      0.67      1002\n",
      "           1       0.92      0.85      0.88      3324\n",
      "\n",
      "    accuracy                           0.83      4326\n",
      "   macro avg       0.76      0.80      0.78      4326\n",
      "weighted avg       0.85      0.83      0.83      4326\n",
      "\n",
      "------------------------------------------\n",
      "              precision    recall  f1-score   support\n",
      "\n",
      "           0       0.67      0.71      0.69      1002\n",
      "           1       0.91      0.90      0.90      3324\n",
      "\n",
      "    accuracy                           0.85      4326\n",
      "   macro avg       0.79      0.80      0.80      4326\n",
      "weighted avg       0.86      0.85      0.85      4326\n",
      "\n"
     ]
    }
   ],
   "source": [
    "print(classification_report(y_test, pred1))\n",
    "print(\"------------------------------------------\")\n",
    "print(classification_report(y_test, pred2))"
   ]
  },
  {
   "cell_type": "markdown",
   "metadata": {},
   "source": [
    "## class 17 vs all"
   ]
  },
  {
   "cell_type": "code",
   "execution_count": 22,
   "metadata": {},
   "outputs": [
    {
     "name": "stderr",
     "output_type": "stream",
     "text": [
      "C:\\ProgramData\\Anaconda3\\envs\\tf_2\\lib\\site-packages\\ipykernel_launcher.py:6: SettingWithCopyWarning: \n",
      "A value is trying to be set on a copy of a slice from a DataFrame.\n",
      "Try using .loc[row_indexer,col_indexer] = value instead\n",
      "\n",
      "See the caveats in the documentation: http://pandas.pydata.org/pandas-docs/stable/user_guide/indexing.html#returning-a-view-versus-a-copy\n",
      "  \n"
     ]
    },
    {
     "data": {
      "image/png": "[encoded data removed]",
      "text/plain": [
       "<Figure size 432x288 with 1 Axes>"
      ]
     },
     "metadata": {
      "needs_background": "light"
     },
     "output_type": "display_data"
    }
   ],
   "source": [
    "data_norm3 = data_norm2[data_norm2['ClassA']==1]\n",
    "\n",
    "def func(data_norm3) :\n",
    "    if data_norm3['Class'] == 17 : return 0\n",
    "    else : return 1\n",
    "data_norm3['ClassA'] = data_norm3.apply(func, axis = 1)\n",
    "\n",
    "train, test = train_test_split(data_norm3, test_size = 0.3)\n",
    "x_train = train.drop(['Class','ClassA'], axis=1)\n",
    "y_train = train['ClassA']\n",
    "x_test = test.drop(['Class','ClassA'], axis=1)\n",
    "y_test = test['ClassA']\n",
    "\n",
    "train2=train.drop('Class',axis=1)\n",
    "\n",
    "smote = SMOTE(random_state=42,ratio='minority')\n",
    "x_train_sm, y_train_sm = smote.fit_sample(x_train, y_train)\n",
    "\n",
    "sns.countplot(y_train_sm)\n",
    "plt.show()\n",
    "\n",
    "x_test=x_test.values\n",
    "y_test=y_test.values\n"
   ]
  },
  {
   "cell_type": "code",
   "execution_count": 23,
   "metadata": {},
   "outputs": [
    {
     "data": {
      "text/plain": [
       "0.6617997616209773"
      ]
     },
     "execution_count": 23,
     "metadata": {},
     "output_type": "execute_result"
    }
   ],
   "source": [
    "from sklearn.ensemble import AdaBoostClassifier\n",
    "\n",
    "adaBoost = AdaBoostClassifier(base_estimator=None,\n",
    "                              learning_rate=1.0,\n",
    "                              n_estimators=100)\n",
    "\n",
    "adaBoost.fit(x_train_sm, y_train_sm)\n",
    "\n",
    "y_pred = adaBoost.predict(x_test)\n",
    "\n",
    "from sklearn.metrics import accuracy_score\n",
    "\n",
    "accuracy_score(y_test, y_pred)\n"
   ]
  },
  {
   "cell_type": "code",
   "execution_count": 24,
   "metadata": {},
   "outputs": [
    {
     "name": "stdout",
     "output_type": "stream",
     "text": [
      "              precision    recall  f1-score   support\n",
      "\n",
      "           0       0.43      0.66      0.52       938\n",
      "           1       0.83      0.66      0.74      2418\n",
      "\n",
      "    accuracy                           0.66      3356\n",
      "   macro avg       0.63      0.66      0.63      3356\n",
      "weighted avg       0.72      0.66      0.68      3356\n",
      "\n"
     ]
    }
   ],
   "source": [
    "print(classification_report(y_test, y_pred))\n"
   ]
  },
  {
   "cell_type": "code",
   "execution_count": 25,
   "metadata": {},
   "outputs": [],
   "source": [
    "#Train the XGboost Model for Classification\n",
    "model1 = xgb.XGBClassifier()\n",
    "model2 = xgb.XGBClassifier(n_estimators=100, max_depth=8, learning_rate=0.1, subsample=0.5)\n",
    "\n",
    "train_model1 = model1.fit(x_train_sm, y_train_sm)\n",
    "train_model2 = model2.fit(x_train_sm, y_train_sm)\n",
    "\n",
    "\n",
    "pred1 = train_model1.predict(x_test)\n",
    "pred2 = train_model2.predict(x_test)"
   ]
  },
  {
   "cell_type": "code",
   "execution_count": 26,
   "metadata": {},
   "outputs": [
    {
     "name": "stdout",
     "output_type": "stream",
     "text": [
      "              precision    recall  f1-score   support\n",
      "\n",
      "           0       0.47      0.74      0.57       938\n",
      "           1       0.87      0.67      0.76      2418\n",
      "\n",
      "    accuracy                           0.69      3356\n",
      "   macro avg       0.67      0.71      0.67      3356\n",
      "weighted avg       0.76      0.69      0.71      3356\n",
      "\n",
      "------------------------------------------\n",
      "              precision    recall  f1-score   support\n",
      "\n",
      "           0       0.52      0.64      0.58       938\n",
      "           1       0.85      0.77      0.81      2418\n",
      "\n",
      "    accuracy                           0.74      3356\n",
      "   macro avg       0.69      0.71      0.69      3356\n",
      "weighted avg       0.76      0.74      0.74      3356\n",
      "\n"
     ]
    }
   ],
   "source": [
    "print(classification_report(y_test, pred1))\n",
    "print(\"------------------------------------------\")\n",
    "print(classification_report(y_test, pred2))"
   ]
  },
  {
   "cell_type": "markdown",
   "metadata": {},
   "source": [
    "## class 16 vs all"
   ]
  },
  {
   "cell_type": "code",
   "execution_count": 27,
   "metadata": {},
   "outputs": [
    {
     "name": "stderr",
     "output_type": "stream",
     "text": [
      "C:\\ProgramData\\Anaconda3\\envs\\tf_2\\lib\\site-packages\\ipykernel_launcher.py:6: SettingWithCopyWarning: \n",
      "A value is trying to be set on a copy of a slice from a DataFrame.\n",
      "Try using .loc[row_indexer,col_indexer] = value instead\n",
      "\n",
      "See the caveats in the documentation: http://pandas.pydata.org/pandas-docs/stable/user_guide/indexing.html#returning-a-view-versus-a-copy\n",
      "  \n"
     ]
    },
    {
     "data": {
      "image/png": "[encoded data removed]",
      "text/plain": [
       "<Figure size 432x288 with 1 Axes>"
      ]
     },
     "metadata": {
      "needs_background": "light"
     },
     "output_type": "display_data"
    }
   ],
   "source": [
    "data_norm4 = data_norm3[data_norm3['ClassA']==1]\n",
    "\n",
    "def func(data_norm4) :\n",
    "    if data_norm4['Class'] == 16 : return 0\n",
    "    else : return 1\n",
    "data_norm4['ClassA'] = data_norm4.apply(func, axis = 1)\n",
    "\n",
    "train, test = train_test_split(data_norm4, test_size = 0.3)\n",
    "x_train = train.drop(['Class','ClassA'], axis=1)\n",
    "y_train = train['ClassA']\n",
    "x_test = test.drop(['Class','ClassA'], axis=1)\n",
    "y_test = test['ClassA']\n",
    "\n",
    "train2=train.drop('Class',axis=1)\n",
    "\n",
    "smote = SMOTE(random_state=42,ratio='minority')\n",
    "x_train_sm, y_train_sm = smote.fit_sample(x_train, y_train)\n",
    "\n",
    "sns.countplot(y_train_sm)\n",
    "plt.show()\n",
    "\n",
    "x_test=x_test.values\n",
    "y_test=y_test.values\n",
    "\n"
   ]
  },
  {
   "cell_type": "code",
   "execution_count": 28,
   "metadata": {},
   "outputs": [
    {
     "data": {
      "text/plain": [
       "0.7356130108423686"
      ]
     },
     "execution_count": 28,
     "metadata": {},
     "output_type": "execute_result"
    }
   ],
   "source": [
    "from sklearn.ensemble import AdaBoostClassifier\n",
    "\n",
    "adaBoost = AdaBoostClassifier(base_estimator=None,\n",
    "                              learning_rate=1.0,\n",
    "                              n_estimators=100)\n",
    "\n",
    "adaBoost.fit(x_train_sm, y_train_sm)\n",
    "\n",
    "y_pred = adaBoost.predict(x_test)\n",
    "\n",
    "from sklearn.metrics import accuracy_score\n",
    "\n",
    "accuracy_score(y_test, y_pred)\n"
   ]
  },
  {
   "cell_type": "code",
   "execution_count": 29,
   "metadata": {},
   "outputs": [
    {
     "name": "stdout",
     "output_type": "stream",
     "text": [
      "              precision    recall  f1-score   support\n",
      "\n",
      "           0       0.54      0.75      0.63       721\n",
      "           1       0.87      0.73      0.79      1677\n",
      "\n",
      "    accuracy                           0.74      2398\n",
      "   macro avg       0.71      0.74      0.71      2398\n",
      "weighted avg       0.77      0.74      0.75      2398\n",
      "\n"
     ]
    }
   ],
   "source": [
    "print(classification_report(y_test, y_pred))\n"
   ]
  },
  {
   "cell_type": "code",
   "execution_count": 30,
   "metadata": {},
   "outputs": [],
   "source": [
    "#Train the XGboost Model for Classification\n",
    "model1 = xgb.XGBClassifier()\n",
    "model2 = xgb.XGBClassifier(n_estimators=100, max_depth=8, learning_rate=0.1, subsample=0.5)\n",
    "\n",
    "train_model1 = model1.fit(x_train_sm, y_train_sm)\n",
    "train_model2 = model2.fit(x_train_sm, y_train_sm)\n",
    "\n",
    "\n",
    "pred1 = train_model1.predict(x_test)\n",
    "pred2 = train_model2.predict(x_test)"
   ]
  },
  {
   "cell_type": "code",
   "execution_count": 31,
   "metadata": {},
   "outputs": [
    {
     "name": "stdout",
     "output_type": "stream",
     "text": [
      "              precision    recall  f1-score   support\n",
      "\n",
      "           0       0.56      0.81      0.66       721\n",
      "           1       0.90      0.73      0.80      1677\n",
      "\n",
      "    accuracy                           0.75      2398\n",
      "   macro avg       0.73      0.77      0.73      2398\n",
      "weighted avg       0.80      0.75      0.76      2398\n",
      "\n",
      "------------------------------------------\n",
      "              precision    recall  f1-score   support\n",
      "\n",
      "           0       0.64      0.72      0.68       721\n",
      "           1       0.87      0.83      0.85      1677\n",
      "\n",
      "    accuracy                           0.79      2398\n",
      "   macro avg       0.76      0.77      0.76      2398\n",
      "weighted avg       0.80      0.79      0.80      2398\n",
      "\n"
     ]
    }
   ],
   "source": [
    "print(classification_report(y_test, pred1))\n",
    "print(\"------------------------------------------\")\n",
    "print(classification_report(y_test, pred2))"
   ]
  },
  {
   "cell_type": "markdown",
   "metadata": {},
   "source": [
    "## Class 198 vs all"
   ]
  },
  {
   "cell_type": "code",
   "execution_count": 32,
   "metadata": {},
   "outputs": [
    {
     "name": "stderr",
     "output_type": "stream",
     "text": [
      "C:\\ProgramData\\Anaconda3\\envs\\tf_2\\lib\\site-packages\\ipykernel_launcher.py:6: SettingWithCopyWarning: \n",
      "A value is trying to be set on a copy of a slice from a DataFrame.\n",
      "Try using .loc[row_indexer,col_indexer] = value instead\n",
      "\n",
      "See the caveats in the documentation: http://pandas.pydata.org/pandas-docs/stable/user_guide/indexing.html#returning-a-view-versus-a-copy\n",
      "  \n"
     ]
    },
    {
     "data": {
      "image/png": "[encoded data removed]",
      "text/plain": [
       "<Figure size 432x288 with 1 Axes>"
      ]
     },
     "metadata": {
      "needs_background": "light"
     },
     "output_type": "display_data"
    }
   ],
   "source": [
    "data_norm5 = data_norm4[data_norm4['ClassA']==1]\n",
    "\n",
    "def func(data_norm5) :\n",
    "    if data_norm5['Class'] == 198 : return 0\n",
    "    else : return 1\n",
    "data_norm5['ClassA'] = data_norm5.apply(func, axis = 1)\n",
    "\n",
    "train, test = train_test_split(data_norm5, test_size = 0.3)\n",
    "x_train = train.drop(['Class','ClassA'], axis=1)\n",
    "y_train = train['ClassA']\n",
    "x_test = test.drop(['Class','ClassA'], axis=1)\n",
    "y_test = test['ClassA']\n",
    "\n",
    "train2=train.drop('Class',axis=1)\n",
    "\n",
    "smote = SMOTE(random_state=42,ratio='minority')\n",
    "x_train_sm, y_train_sm = smote.fit_sample(x_train, y_train)\n",
    "\n",
    "sns.countplot(y_train_sm)\n",
    "plt.show()\n",
    "\n",
    "x_test=x_test.values\n",
    "y_test=y_test.values\n"
   ]
  },
  {
   "cell_type": "code",
   "execution_count": 33,
   "metadata": {},
   "outputs": [
    {
     "data": {
      "text/plain": [
       "0.9861861861861861"
      ]
     },
     "execution_count": 33,
     "metadata": {},
     "output_type": "execute_result"
    }
   ],
   "source": [
    "from sklearn.ensemble import AdaBoostClassifier\n",
    "\n",
    "adaBoost = AdaBoostClassifier(base_estimator=None,\n",
    "                              learning_rate=1.0,\n",
    "                              n_estimators=100)\n",
    "\n",
    "adaBoost.fit(x_train_sm, y_train_sm)\n",
    "\n",
    "y_pred = adaBoost.predict(x_test)\n",
    "\n",
    "from sklearn.metrics import accuracy_score\n",
    "\n",
    "accuracy_score(y_test, y_pred)\n",
    "\n"
   ]
  },
  {
   "cell_type": "code",
   "execution_count": 34,
   "metadata": {},
   "outputs": [
    {
     "name": "stdout",
     "output_type": "stream",
     "text": [
      "              precision    recall  f1-score   support\n",
      "\n",
      "           0       0.98      0.98      0.98       622\n",
      "           1       0.99      0.99      0.99      1043\n",
      "\n",
      "    accuracy                           0.99      1665\n",
      "   macro avg       0.99      0.99      0.99      1665\n",
      "weighted avg       0.99      0.99      0.99      1665\n",
      "\n"
     ]
    }
   ],
   "source": [
    "print(classification_report(y_test, y_pred))\n"
   ]
  },
  {
   "cell_type": "code",
   "execution_count": 35,
   "metadata": {},
   "outputs": [],
   "source": [
    "#Train the XGboost Model for Classification\n",
    "model1 = xgb.XGBClassifier()\n",
    "model2 = xgb.XGBClassifier(n_estimators=100, max_depth=8, learning_rate=0.1, subsample=0.5)\n",
    "\n",
    "train_model1 = model1.fit(x_train_sm, y_train_sm)\n",
    "train_model2 = model2.fit(x_train_sm, y_train_sm)\n",
    "\n",
    "\n",
    "pred1 = train_model1.predict(x_test)\n",
    "pred2 = train_model2.predict(x_test)"
   ]
  },
  {
   "cell_type": "code",
   "execution_count": 36,
   "metadata": {},
   "outputs": [
    {
     "name": "stdout",
     "output_type": "stream",
     "text": [
      "              precision    recall  f1-score   support\n",
      "\n",
      "           0       0.98      0.99      0.99       622\n",
      "           1       0.99      0.99      0.99      1043\n",
      "\n",
      "    accuracy                           0.99      1665\n",
      "   macro avg       0.99      0.99      0.99      1665\n",
      "weighted avg       0.99      0.99      0.99      1665\n",
      "\n",
      "------------------------------------------\n",
      "              precision    recall  f1-score   support\n",
      "\n",
      "           0       0.99      0.99      0.99       622\n",
      "           1       0.99      0.99      0.99      1043\n",
      "\n",
      "    accuracy                           0.99      1665\n",
      "   macro avg       0.99      0.99      0.99      1665\n",
      "weighted avg       0.99      0.99      0.99      1665\n",
      "\n"
     ]
    }
   ],
   "source": [
    "print(classification_report(y_test, pred1))\n",
    "print(\"------------------------------------------\")\n",
    "print(classification_report(y_test, pred2))"
   ]
  },
  {
   "cell_type": "code",
   "execution_count": 37,
   "metadata": {},
   "outputs": [
    {
     "name": "stderr",
     "output_type": "stream",
     "text": [
      "C:\\ProgramData\\Anaconda3\\envs\\tf_2\\lib\\site-packages\\ipykernel_launcher.py:6: SettingWithCopyWarning: \n",
      "A value is trying to be set on a copy of a slice from a DataFrame.\n",
      "Try using .loc[row_indexer,col_indexer] = value instead\n",
      "\n",
      "See the caveats in the documentation: http://pandas.pydata.org/pandas-docs/stable/user_guide/indexing.html#returning-a-view-versus-a-copy\n",
      "  \n"
     ]
    },
    {
     "data": {
      "image/png": "[encoded data removed]",
      "text/plain": [
       "<Figure size 432x288 with 1 Axes>"
      ]
     },
     "metadata": {
      "needs_background": "light"
     },
     "output_type": "display_data"
    }
   ],
   "source": [
    "data_norm6 = data_norm5[data_norm5['ClassA']==1]\n",
    "\n",
    "def func(data_norm6) :\n",
    "    if data_norm6['Class'] == 76 : return 0\n",
    "    else : return 1\n",
    "data_norm6['ClassA'] = data_norm6.apply(func, axis = 1)\n",
    "\n",
    "train, test = train_test_split(data_norm6, test_size = 0.3)\n",
    "x_train = train.drop(['Class','ClassA'], axis=1)\n",
    "y_train = train['ClassA']\n",
    "x_test = test.drop(['Class','ClassA'], axis=1)\n",
    "y_test = test['ClassA']\n",
    "\n",
    "train2=train.drop('Class',axis=1)\n",
    "\n",
    "smote = SMOTE(random_state=42,ratio='minority')\n",
    "x_train_sm, y_train_sm = smote.fit_sample(x_train, y_train)\n",
    "\n",
    "sns.countplot(y_train_sm)\n",
    "plt.show()\n",
    "\n",
    "x_test=x_test.values\n",
    "y_test=y_test.values\n",
    "\n"
   ]
  },
  {
   "cell_type": "code",
   "execution_count": 38,
   "metadata": {},
   "outputs": [
    {
     "data": {
      "text/plain": [
       "0.8725023786869648"
      ]
     },
     "execution_count": 38,
     "metadata": {},
     "output_type": "execute_result"
    }
   ],
   "source": [
    "from sklearn.ensemble import AdaBoostClassifier\n",
    "\n",
    "adaBoost = AdaBoostClassifier(base_estimator=None,\n",
    "                              learning_rate=1.0,\n",
    "                              n_estimators=100)\n",
    "\n",
    "adaBoost.fit(x_train_sm, y_train_sm)\n",
    "\n",
    "y_pred = adaBoost.predict(x_test)\n",
    "\n",
    "from sklearn.metrics import accuracy_score\n",
    "\n",
    "accuracy_score(y_test, y_pred)\n"
   ]
  },
  {
   "cell_type": "code",
   "execution_count": 39,
   "metadata": {},
   "outputs": [
    {
     "name": "stdout",
     "output_type": "stream",
     "text": [
      "              precision    recall  f1-score   support\n",
      "\n",
      "           0       0.88      0.87      0.87       532\n",
      "           1       0.87      0.88      0.87       519\n",
      "\n",
      "    accuracy                           0.87      1051\n",
      "   macro avg       0.87      0.87      0.87      1051\n",
      "weighted avg       0.87      0.87      0.87      1051\n",
      "\n"
     ]
    }
   ],
   "source": [
    "print(classification_report(y_test, y_pred))\n"
   ]
  },
  {
   "cell_type": "code",
   "execution_count": 40,
   "metadata": {},
   "outputs": [],
   "source": [
    "#Train the XGboost Model for Classification\n",
    "model1 = xgb.XGBClassifier()\n",
    "model2 = xgb.XGBClassifier(n_estimators=100, max_depth=8, learning_rate=0.1, subsample=0.5)\n",
    "\n",
    "train_model1 = model1.fit(x_train_sm, y_train_sm)\n",
    "train_model2 = model2.fit(x_train_sm, y_train_sm)\n",
    "\n",
    "\n",
    "pred1 = train_model1.predict(x_test)\n",
    "pred2 = train_model2.predict(x_test)"
   ]
  },
  {
   "cell_type": "code",
   "execution_count": 42,
   "metadata": {},
   "outputs": [
    {
     "name": "stdout",
     "output_type": "stream",
     "text": [
      "              precision    recall  f1-score   support\n",
      "\n",
      "           0       0.89      0.89      0.89       532\n",
      "           1       0.89      0.89      0.89       519\n",
      "\n",
      "    accuracy                           0.89      1051\n",
      "   macro avg       0.89      0.89      0.89      1051\n",
      "weighted avg       0.89      0.89      0.89      1051\n",
      "\n",
      "------------------------------------------\n",
      "              precision    recall  f1-score   support\n",
      "\n",
      "           0       0.89      0.89      0.89       532\n",
      "           1       0.89      0.89      0.89       519\n",
      "\n",
      "    accuracy                           0.89      1051\n",
      "   macro avg       0.89      0.89      0.89      1051\n",
      "weighted avg       0.89      0.89      0.89      1051\n",
      "\n"
     ]
    }
   ],
   "source": [
    "print(classification_report(y_test, pred1))\n",
    "print(\"------------------------------------------\")\n",
    "print(classification_report(y_test, pred2))"
   ]
  },
  {
   "cell_type": "code",
   "execution_count": null,
   "metadata": {},
   "outputs": [],
   "source": []
  }
 ],
 "metadata": {
  "kernelspec": {
   "display_name": "Tensorflow_GPU",
   "language": "python",
   "name": "tf_2"
  },
  "language_info": {
   "codemirror_mode": {
    "name": "ipython",
    "version": 3
   },
   "file_extension": ".py",
   "mimetype": "text/x-python",
   "name": "python",
   "nbconvert_exporter": "python",
   "pygments_lexer": "ipython3",
   "version": "3.6.8"
  }
 },
 "nbformat": 4,
 "nbformat_minor": 4
}
